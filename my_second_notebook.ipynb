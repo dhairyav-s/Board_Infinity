{
  "nbformat": 4,
  "nbformat_minor": 0,
  "metadata": {
    "colab": {
      "name": "my_second_notebook.ipynb",
      "provenance": [],
      "include_colab_link": true
    },
    "kernelspec": {
      "name": "python3",
      "display_name": "Python 3"
    },
    "accelerator": "GPU"
  },
  "cells": [
    {
      "cell_type": "markdown",
      "metadata": {
        "id": "view-in-github",
        "colab_type": "text"
      },
      "source": [
        "<a href=\"https://colab.research.google.com/github/dhairyav-s/Board_Infinity/blob/master/my_second_notebook.ipynb\" target=\"_parent\"><img src=\"https://colab.research.google.com/assets/colab-badge.svg\" alt=\"Open In Colab\"/></a>"
      ]
    },
    {
      "cell_type": "markdown",
      "metadata": {
        "id": "sOzrbXR1xdRz",
        "colab_type": "text"
      },
      "source": [
        "Greetings, Final Year Engineering in Electronics and Telecommunication student.\n",
        "Keenly Intrested in building a career in data science. \n",
        "Worked as an Intern at IFA Global, as a Gaming Ambassador with Lenovo, Netwrok Marketer at SARSO."
      ]
    },
    {
      "cell_type": "markdown",
      "metadata": {
        "id": "y2ftsmuqztGC",
        "colab_type": "text"
      },
      "source": [
        "The thing that attracted me towards data science is solving real-time problems. Thinking out of the box. I am also good with maths which made me more confident towards choosing this field. Also data science is still a developing field which means there are a lot of opportunities to learn and grow with the industry. Any job profile related to data science has a lot of verstality and it is a never ending learning career which would keep anyone like me motivated.\n",
        "\n"
      ]
    },
    {
      "cell_type": "code",
      "metadata": {
        "id": "0N2jO1nx0YNI",
        "colab_type": "code",
        "outputId": "f05fcd24-39ec-4cfc-fad1-0404a8a2a428",
        "colab": {
          "base_uri": "https://localhost:8080/",
          "height": 102
        }
      },
      "source": [
        "First_name = 'Dhairyav'\n",
        "Last_name = ' Shah'\n",
        "City_name = 'Mumbai'\n",
        "age = 21\n",
        "vegeterian = True\n",
        "non_vegeterian = False\n",
        "height = 183\n",
        "SSC_percentage = 84.80\n",
        "HSC_percentage = 74.20\n",
        "favourite_numbers = [15,21,23,45,65]\n",
        "my_friends = ['yash','bhavya','krishna','siddharth','mithil']\n",
        "print (my_friends [0])\n",
        "print (favourite_numbers [1])\n",
        "myself = {'name': First_name + Last_name, 'age':21, 'gender':'Male', 'Favourite colour':'Black', 'Favourite Song':'Thousand Years', 'Date of Birth': '27 January 1998'}\n",
        "myself ['vegeterian' ] = vegeterian\n",
        "myself ['non_vegeterian' ] = non_vegeterian\n",
        "print (myself ['name'])\n",
        "print (myself ['gender'])\n",
        "print (myself ['vegeterian']) "
      ],
      "execution_count": 13,
      "outputs": [
        {
          "output_type": "stream",
          "text": [
            "yash\n",
            "21\n",
            "Dhairyav Shah\n",
            "Male\n",
            "True\n"
          ],
          "name": "stdout"
        }
      ]
    },
    {
      "cell_type": "code",
      "metadata": {
        "id": "LlqCuZbsJotc",
        "colab_type": "code",
        "colab": {}
      },
      "source": [
        "\n"
      ],
      "execution_count": 0,
      "outputs": []
    }
  ]
}