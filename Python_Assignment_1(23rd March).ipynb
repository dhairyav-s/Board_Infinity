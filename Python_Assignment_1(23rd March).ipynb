{
  "nbformat": 4,
  "nbformat_minor": 0,
  "metadata": {
    "colab": {
      "name": "Python_Assignment_1.ipynb",
      "provenance": [],
      "collapsed_sections": [],
      "authorship_tag": "ABX9TyOMF/mbnvKMm5yhA9Hi6y7o",
      "include_colab_link": true
    },
    "kernelspec": {
      "name": "python3",
      "display_name": "Python 3"
    },
    "accelerator": "GPU"
  },
  "cells": [
    {
      "cell_type": "markdown",
      "metadata": {
        "id": "view-in-github",
        "colab_type": "text"
      },
      "source": [
        "<a href=\"https://colab.research.google.com/github/dhairyav-s/Board_Infinity/blob/master/Python_Assignment_1(23rd%20March).ipynb\" target=\"_parent\"><img src=\"https://colab.research.google.com/assets/colab-badge.svg\" alt=\"Open In Colab\"/></a>"
      ]
    },
    {
      "cell_type": "code",
      "metadata": {
        "id": "rccK4vIkDQY9",
        "colab_type": "code",
        "colab": {}
      },
      "source": [
        "import numpy as np\n",
        "import pandas as pd\n",
        "import matplotlib.pyplot as plt\n",
        "import seaborn as sns"
      ],
      "execution_count": 0,
      "outputs": []
    },
    {
      "cell_type": "markdown",
      "metadata": {
        "id": "AFMefn-OJVpg",
        "colab_type": "text"
      },
      "source": [
        "-Reading the Data"
      ]
    },
    {
      "cell_type": "code",
      "metadata": {
        "id": "4eBRwntwICfC",
        "colab_type": "code",
        "colab": {}
      },
      "source": [
        "df=pd.read_excel('/content/Tips Quick EDA exercise v0.1 (5).xlsx')"
      ],
      "execution_count": 0,
      "outputs": []
    },
    {
      "cell_type": "markdown",
      "metadata": {
        "id": "bW6rEwogI-s3",
        "colab_type": "text"
      },
      "source": [
        "-Checking the Overall data in the excel sheet."
      ]
    },
    {
      "cell_type": "code",
      "metadata": {
        "id": "XnSNNsG2IMKu",
        "colab_type": "code",
        "outputId": "b5d13f71-d292-4d77-8bba-11a50b2ca49a",
        "colab": {
          "base_uri": "https://localhost:8080/",
          "height": 204
        }
      },
      "source": [
        "df.head()"
      ],
      "execution_count": 83,
      "outputs": [
        {
          "output_type": "execute_result",
          "data": {
            "text/html": [
              "<div>\n",
              "<style scoped>\n",
              "    .dataframe tbody tr th:only-of-type {\n",
              "        vertical-align: middle;\n",
              "    }\n",
              "\n",
              "    .dataframe tbody tr th {\n",
              "        vertical-align: top;\n",
              "    }\n",
              "\n",
              "    .dataframe thead th {\n",
              "        text-align: right;\n",
              "    }\n",
              "</style>\n",
              "<table border=\"1\" class=\"dataframe\">\n",
              "  <thead>\n",
              "    <tr style=\"text-align: right;\">\n",
              "      <th></th>\n",
              "      <th>total_bill</th>\n",
              "      <th>tip</th>\n",
              "      <th>sex</th>\n",
              "      <th>smoker</th>\n",
              "      <th>day</th>\n",
              "      <th>time</th>\n",
              "      <th>size</th>\n",
              "    </tr>\n",
              "  </thead>\n",
              "  <tbody>\n",
              "    <tr>\n",
              "      <th>0</th>\n",
              "      <td>16.99</td>\n",
              "      <td>1.01</td>\n",
              "      <td>Female</td>\n",
              "      <td>No</td>\n",
              "      <td>Sun</td>\n",
              "      <td>Dinner</td>\n",
              "      <td>2.0</td>\n",
              "    </tr>\n",
              "    <tr>\n",
              "      <th>1</th>\n",
              "      <td>10.34</td>\n",
              "      <td>1.66</td>\n",
              "      <td>Male</td>\n",
              "      <td>No</td>\n",
              "      <td>Sun</td>\n",
              "      <td>Dinner</td>\n",
              "      <td>3.0</td>\n",
              "    </tr>\n",
              "    <tr>\n",
              "      <th>2</th>\n",
              "      <td>21.01</td>\n",
              "      <td>3.50</td>\n",
              "      <td>Male</td>\n",
              "      <td>No</td>\n",
              "      <td>Sun</td>\n",
              "      <td>Dinner</td>\n",
              "      <td>3.0</td>\n",
              "    </tr>\n",
              "    <tr>\n",
              "      <th>3</th>\n",
              "      <td>23.68</td>\n",
              "      <td>3.31</td>\n",
              "      <td>Male</td>\n",
              "      <td>No</td>\n",
              "      <td>Sun</td>\n",
              "      <td>Dinner</td>\n",
              "      <td>2.0</td>\n",
              "    </tr>\n",
              "    <tr>\n",
              "      <th>4</th>\n",
              "      <td>24.59</td>\n",
              "      <td>3.61</td>\n",
              "      <td>Female</td>\n",
              "      <td>No</td>\n",
              "      <td>Sun</td>\n",
              "      <td>Dinner</td>\n",
              "      <td>4.0</td>\n",
              "    </tr>\n",
              "  </tbody>\n",
              "</table>\n",
              "</div>"
            ],
            "text/plain": [
              "   total_bill   tip     sex smoker  day    time  size\n",
              "0       16.99  1.01  Female     No  Sun  Dinner   2.0\n",
              "1       10.34  1.66    Male     No  Sun  Dinner   3.0\n",
              "2       21.01  3.50    Male     No  Sun  Dinner   3.0\n",
              "3       23.68  3.31    Male     No  Sun  Dinner   2.0\n",
              "4       24.59  3.61  Female     No  Sun  Dinner   4.0"
            ]
          },
          "metadata": {
            "tags": []
          },
          "execution_count": 83
        }
      ]
    },
    {
      "cell_type": "markdown",
      "metadata": {
        "id": "JC2EVpBbJLO6",
        "colab_type": "text"
      },
      "source": [
        "-Checking the number of rows and columns in the data."
      ]
    },
    {
      "cell_type": "code",
      "metadata": {
        "id": "hSwD6t0wJIgo",
        "colab_type": "code",
        "outputId": "c4edee22-3b73-4b86-aa9e-d053e0bcc84a",
        "colab": {
          "base_uri": "https://localhost:8080/",
          "height": 34
        }
      },
      "source": [
        "df.shape"
      ],
      "execution_count": 84,
      "outputs": [
        {
          "output_type": "execute_result",
          "data": {
            "text/plain": [
              "(245, 7)"
            ]
          },
          "metadata": {
            "tags": []
          },
          "execution_count": 84
        }
      ]
    },
    {
      "cell_type": "markdown",
      "metadata": {
        "id": "uxeYCAa3JSQx",
        "colab_type": "text"
      },
      "source": [
        "-Checking the data types of the data"
      ]
    },
    {
      "cell_type": "code",
      "metadata": {
        "id": "SbKJbB03INbx",
        "colab_type": "code",
        "outputId": "4c42e779-b899-4db1-b230-919be8748d95",
        "colab": {
          "base_uri": "https://localhost:8080/",
          "height": 153
        }
      },
      "source": [
        "df.dtypes"
      ],
      "execution_count": 85,
      "outputs": [
        {
          "output_type": "execute_result",
          "data": {
            "text/plain": [
              "total_bill    float64\n",
              "tip           float64\n",
              "sex            object\n",
              "smoker         object\n",
              "day            object\n",
              "time           object\n",
              "size          float64\n",
              "dtype: object"
            ]
          },
          "metadata": {
            "tags": []
          },
          "execution_count": 85
        }
      ]
    },
    {
      "cell_type": "markdown",
      "metadata": {
        "id": "oq_HBlyKJeDS",
        "colab_type": "text"
      },
      "source": [
        "-Checking for null values in the data set."
      ]
    },
    {
      "cell_type": "code",
      "metadata": {
        "id": "sTJqHUGHIW08",
        "colab_type": "code",
        "outputId": "420cdd9b-3b27-473a-e196-76eb0cb5c360",
        "colab": {
          "base_uri": "https://localhost:8080/",
          "height": 153
        }
      },
      "source": [
        "df.isnull().sum()"
      ],
      "execution_count": 86,
      "outputs": [
        {
          "output_type": "execute_result",
          "data": {
            "text/plain": [
              "total_bill    1\n",
              "tip           1\n",
              "sex           0\n",
              "smoker        0\n",
              "day           1\n",
              "time          1\n",
              "size          1\n",
              "dtype: int64"
            ]
          },
          "metadata": {
            "tags": []
          },
          "execution_count": 86
        }
      ]
    },
    {
      "cell_type": "markdown",
      "metadata": {
        "id": "JETwht4RJnHU",
        "colab_type": "text"
      },
      "source": [
        "-Dropping the null values from the data set."
      ]
    },
    {
      "cell_type": "code",
      "metadata": {
        "id": "q7x4c6lqIpvo",
        "colab_type": "code",
        "outputId": "78688ff6-130e-4fcf-ee5c-0d1de71d606a",
        "colab": {
          "base_uri": "https://localhost:8080/",
          "height": 153
        }
      },
      "source": [
        "df=df.dropna()\n",
        "df.isnull().sum()"
      ],
      "execution_count": 87,
      "outputs": [
        {
          "output_type": "execute_result",
          "data": {
            "text/plain": [
              "total_bill    0\n",
              "tip           0\n",
              "sex           0\n",
              "smoker        0\n",
              "day           0\n",
              "time          0\n",
              "size          0\n",
              "dtype: int64"
            ]
          },
          "metadata": {
            "tags": []
          },
          "execution_count": 87
        }
      ]
    },
    {
      "cell_type": "markdown",
      "metadata": {
        "id": "1FrMJq3_KIDT",
        "colab_type": "text"
      },
      "source": [
        "-Checking the statistcal values of the data set."
      ]
    },
    {
      "cell_type": "code",
      "metadata": {
        "id": "VN5fhKD4IuWe",
        "colab_type": "code",
        "outputId": "99ec9aeb-44ea-4452-b535-91dbed8ea562",
        "colab": {
          "base_uri": "https://localhost:8080/",
          "height": 297
        }
      },
      "source": [
        "df.describe()"
      ],
      "execution_count": 88,
      "outputs": [
        {
          "output_type": "execute_result",
          "data": {
            "text/html": [
              "<div>\n",
              "<style scoped>\n",
              "    .dataframe tbody tr th:only-of-type {\n",
              "        vertical-align: middle;\n",
              "    }\n",
              "\n",
              "    .dataframe tbody tr th {\n",
              "        vertical-align: top;\n",
              "    }\n",
              "\n",
              "    .dataframe thead th {\n",
              "        text-align: right;\n",
              "    }\n",
              "</style>\n",
              "<table border=\"1\" class=\"dataframe\">\n",
              "  <thead>\n",
              "    <tr style=\"text-align: right;\">\n",
              "      <th></th>\n",
              "      <th>total_bill</th>\n",
              "      <th>tip</th>\n",
              "      <th>size</th>\n",
              "    </tr>\n",
              "  </thead>\n",
              "  <tbody>\n",
              "    <tr>\n",
              "      <th>count</th>\n",
              "      <td>244.000000</td>\n",
              "      <td>244.000000</td>\n",
              "      <td>244.000000</td>\n",
              "    </tr>\n",
              "    <tr>\n",
              "      <th>mean</th>\n",
              "      <td>19.785943</td>\n",
              "      <td>2.998279</td>\n",
              "      <td>2.569672</td>\n",
              "    </tr>\n",
              "    <tr>\n",
              "      <th>std</th>\n",
              "      <td>8.902412</td>\n",
              "      <td>1.383638</td>\n",
              "      <td>0.951100</td>\n",
              "    </tr>\n",
              "    <tr>\n",
              "      <th>min</th>\n",
              "      <td>3.070000</td>\n",
              "      <td>1.000000</td>\n",
              "      <td>1.000000</td>\n",
              "    </tr>\n",
              "    <tr>\n",
              "      <th>25%</th>\n",
              "      <td>13.347500</td>\n",
              "      <td>2.000000</td>\n",
              "      <td>2.000000</td>\n",
              "    </tr>\n",
              "    <tr>\n",
              "      <th>50%</th>\n",
              "      <td>17.795000</td>\n",
              "      <td>2.900000</td>\n",
              "      <td>2.000000</td>\n",
              "    </tr>\n",
              "    <tr>\n",
              "      <th>75%</th>\n",
              "      <td>24.127500</td>\n",
              "      <td>3.562500</td>\n",
              "      <td>3.000000</td>\n",
              "    </tr>\n",
              "    <tr>\n",
              "      <th>max</th>\n",
              "      <td>50.810000</td>\n",
              "      <td>10.000000</td>\n",
              "      <td>6.000000</td>\n",
              "    </tr>\n",
              "  </tbody>\n",
              "</table>\n",
              "</div>"
            ],
            "text/plain": [
              "       total_bill         tip        size\n",
              "count  244.000000  244.000000  244.000000\n",
              "mean    19.785943    2.998279    2.569672\n",
              "std      8.902412    1.383638    0.951100\n",
              "min      3.070000    1.000000    1.000000\n",
              "25%     13.347500    2.000000    2.000000\n",
              "50%     17.795000    2.900000    2.000000\n",
              "75%     24.127500    3.562500    3.000000\n",
              "max     50.810000   10.000000    6.000000"
            ]
          },
          "metadata": {
            "tags": []
          },
          "execution_count": 88
        }
      ]
    },
    {
      "cell_type": "markdown",
      "metadata": {
        "id": "3m4W--sfNd30",
        "colab_type": "text"
      },
      "source": [
        "1) What is the overall average tip?\n",
        "\n",
        "2) Get a numerical summary for 'tip' - are the median and mean very different? What does this tell you about the field?"
      ]
    },
    {
      "cell_type": "code",
      "metadata": {
        "id": "qIZOU3xyKNgW",
        "colab_type": "code",
        "outputId": "44790a62-c00a-49ac-ea61-a8ba4aa3345b",
        "colab": {
          "base_uri": "https://localhost:8080/",
          "height": 170
        }
      },
      "source": [
        "df['tip'].describe()"
      ],
      "execution_count": 89,
      "outputs": [
        {
          "output_type": "execute_result",
          "data": {
            "text/plain": [
              "count    244.000000\n",
              "mean       2.998279\n",
              "std        1.383638\n",
              "min        1.000000\n",
              "25%        2.000000\n",
              "50%        2.900000\n",
              "75%        3.562500\n",
              "max       10.000000\n",
              "Name: tip, dtype: float64"
            ]
          },
          "metadata": {
            "tags": []
          },
          "execution_count": 89
        }
      ]
    },
    {
      "cell_type": "code",
      "metadata": {
        "id": "kc9zsnu2O_9B",
        "colab_type": "code",
        "outputId": "cd2b10b1-54e0-4ca3-919c-4c3718f32f4a",
        "colab": {
          "base_uri": "https://localhost:8080/",
          "height": 34
        }
      },
      "source": [
        "np.median(df['tip'])"
      ],
      "execution_count": 90,
      "outputs": [
        {
          "output_type": "execute_result",
          "data": {
            "text/plain": [
              "2.9"
            ]
          },
          "metadata": {
            "tags": []
          },
          "execution_count": 90
        }
      ]
    },
    {
      "cell_type": "markdown",
      "metadata": {
        "id": "ja-QpQ9fOM_x",
        "colab_type": "text"
      },
      "source": [
        "Ans1) Avg tip is the mean value. i.e = Rs- 2.99.\n",
        "\n",
        "Ans2) the outputs show that the mean and median are close, hence it states that there is normal distribution in the data."
      ]
    },
    {
      "cell_type": "markdown",
      "metadata": {
        "id": "ZIKeP5bqOcF7",
        "colab_type": "text"
      },
      "source": [
        "3)Prepare a boxplot for 'tip', are there any outliers?"
      ]
    },
    {
      "cell_type": "code",
      "metadata": {
        "id": "V1BwvshDOAbR",
        "colab_type": "code",
        "outputId": "5c9dfedd-81c3-4e59-acda-3806d033e53d",
        "colab": {
          "base_uri": "https://localhost:8080/",
          "height": 459
        }
      },
      "source": [
        "fig_dms=(15,7)\n",
        "fig, ax=plt.subplots(figsize=fig_dms)\n",
        "sns.boxplot(x=df['tip'],ax=ax)"
      ],
      "execution_count": 91,
      "outputs": [
        {
          "output_type": "execute_result",
          "data": {
            "text/plain": [
              "<matplotlib.axes._subplots.AxesSubplot at 0x7f9ec89ee080>"
            ]
          },
          "metadata": {
            "tags": []
          },
          "execution_count": 91
        },
        {
          "output_type": "display_data",
          "data": {
            "image/png": "[encoded data removed]",
            "text/plain": [
              "<Figure size 1080x504 with 1 Axes>"
            ]
          },
          "metadata": {
            "tags": []
          }
        }
      ]
    },
    {
      "cell_type": "markdown",
      "metadata": {
        "id": "dwOSufRFTv45",
        "colab_type": "text"
      },
      "source": [
        "Ans3) Yes, Outliers are present in the tips column."
      ]
    },
    {
      "cell_type": "markdown",
      "metadata": {
        "id": "uvvBEKQRU4uK",
        "colab_type": "text"
      },
      "source": [
        "4) Prepare a boxplot for 'total_bill', are there any outliers?"
      ]
    },
    {
      "cell_type": "code",
      "metadata": {
        "id": "vHYnyDemRyu6",
        "colab_type": "code",
        "outputId": "fac5183a-9a02-4ad4-f716-738085eed196",
        "colab": {
          "base_uri": "https://localhost:8080/",
          "height": 460
        }
      },
      "source": [
        "fig_dms=(15,7)\n",
        "fig, ax=plt.subplots(figsize=fig_dms)\n",
        "sns.boxplot(x=df['total_bill'],ax=ax)"
      ],
      "execution_count": 92,
      "outputs": [
        {
          "output_type": "execute_result",
          "data": {
            "text/plain": [
              "<matplotlib.axes._subplots.AxesSubplot at 0x7f9ec76c0cc0>"
            ]
          },
          "metadata": {
            "tags": []
          },
          "execution_count": 92
        },
        {
          "output_type": "display_data",
          "data": {
            "image/png": "[encoded data removed]",
            "text/plain": [
              "<Figure size 1080x504 with 1 Axes>"
            ]
          },
          "metadata": {
            "tags": []
          }
        }
      ]
    },
    {
      "cell_type": "markdown",
      "metadata": {
        "id": "B6VuikcNVHCu",
        "colab_type": "text"
      },
      "source": [
        "Ans4) Yes, Outliers are present in the total bill column."
      ]
    },
    {
      "cell_type": "markdown",
      "metadata": {
        "id": "1cuPULfqZXR3",
        "colab_type": "text"
      },
      "source": [
        "5) Gender: what is the percent of females in the data? "
      ]
    },
    {
      "cell_type": "code",
      "metadata": {
        "id": "cxKmjia8ZWzq",
        "colab_type": "code",
        "colab": {}
      },
      "source": [
        ""
      ],
      "execution_count": 0,
      "outputs": []
    },
    {
      "cell_type": "markdown",
      "metadata": {
        "id": "2p9rDCpgVOro",
        "colab_type": "text"
      },
      "source": [
        "6) Prepare a bar plot with the bars representing the percentage of records for each gender."
      ]
    },
    {
      "cell_type": "code",
      "metadata": {
        "id": "ZfLt5ELXVBYc",
        "colab_type": "code",
        "outputId": "a8348905-b76f-4ebf-ffb8-ee88479b168a",
        "colab": {
          "base_uri": "https://localhost:8080/",
          "height": 68
        }
      },
      "source": [
        "sex_counts=df['sex'].value_counts()\n",
        "sex_counts"
      ],
      "execution_count": 93,
      "outputs": [
        {
          "output_type": "execute_result",
          "data": {
            "text/plain": [
              "Male      157\n",
              "Female     87\n",
              "Name: sex, dtype: int64"
            ]
          },
          "metadata": {
            "tags": []
          },
          "execution_count": 93
        }
      ]
    },
    {
      "cell_type": "code",
      "metadata": {
        "id": "ukytzePaVWZ7",
        "colab_type": "code",
        "outputId": "5392cb5c-543c-45f8-d685-7c17420a9caa",
        "colab": {
          "base_uri": "https://localhost:8080/",
          "height": 458
        }
      },
      "source": [
        "plt.figure(figsize=(7,7))\n",
        "plt.title('Male v/s Female counts in the resraurant')\n",
        "plt.xlabel('Gender')\n",
        "plt.ylabel('Count')\n",
        "plt.bar(df['sex'].value_counts().keys(), df['sex'].value_counts().values)\n",
        "plt.show()"
      ],
      "execution_count": 94,
      "outputs": [
        {
          "output_type": "display_data",
          "data": {
            "image/png": "[encoded data removed]",
            "text/plain": [
              "<Figure size 504x504 with 1 Axes>"
            ]
          },
          "metadata": {
            "tags": []
          }
        }
      ]
    },
    {
      "cell_type": "markdown",
      "metadata": {
        "id": "E7M58jPpY2Ym",
        "colab_type": "text"
      },
      "source": [
        "7) Does the average tip differ by gender? Does one gender tip more than the other?\n",
        " "
      ]
    },
    {
      "cell_type": "code",
      "metadata": {
        "id": "32k4-X6mWE-Y",
        "colab_type": "code",
        "colab": {
          "base_uri": "https://localhost:8080/",
          "height": 142
        },
        "outputId": "f6a333b1-8ebf-4c0a-d17b-9e5def91b4e7"
      },
      "source": [
        "avg_tip_sex=df.groupby(['sex'])\n",
        "avg_tip_sex.describe()['tip']\n"
      ],
      "execution_count": 95,
      "outputs": [
        {
          "output_type": "execute_result",
          "data": {
            "text/html": [
              "<div>\n",
              "<style scoped>\n",
              "    .dataframe tbody tr th:only-of-type {\n",
              "        vertical-align: middle;\n",
              "    }\n",
              "\n",
              "    .dataframe tbody tr th {\n",
              "        vertical-align: top;\n",
              "    }\n",
              "\n",
              "    .dataframe thead th {\n",
              "        text-align: right;\n",
              "    }\n",
              "</style>\n",
              "<table border=\"1\" class=\"dataframe\">\n",
              "  <thead>\n",
              "    <tr style=\"text-align: right;\">\n",
              "      <th></th>\n",
              "      <th>count</th>\n",
              "      <th>mean</th>\n",
              "      <th>std</th>\n",
              "      <th>min</th>\n",
              "      <th>25%</th>\n",
              "      <th>50%</th>\n",
              "      <th>75%</th>\n",
              "      <th>max</th>\n",
              "    </tr>\n",
              "    <tr>\n",
              "      <th>sex</th>\n",
              "      <th></th>\n",
              "      <th></th>\n",
              "      <th></th>\n",
              "      <th></th>\n",
              "      <th></th>\n",
              "      <th></th>\n",
              "      <th></th>\n",
              "      <th></th>\n",
              "    </tr>\n",
              "  </thead>\n",
              "  <tbody>\n",
              "    <tr>\n",
              "      <th>Female</th>\n",
              "      <td>87.0</td>\n",
              "      <td>2.833448</td>\n",
              "      <td>1.159495</td>\n",
              "      <td>1.0</td>\n",
              "      <td>2.0</td>\n",
              "      <td>2.75</td>\n",
              "      <td>3.50</td>\n",
              "      <td>6.5</td>\n",
              "    </tr>\n",
              "    <tr>\n",
              "      <th>Male</th>\n",
              "      <td>157.0</td>\n",
              "      <td>3.089618</td>\n",
              "      <td>1.489102</td>\n",
              "      <td>1.0</td>\n",
              "      <td>2.0</td>\n",
              "      <td>3.00</td>\n",
              "      <td>3.76</td>\n",
              "      <td>10.0</td>\n",
              "    </tr>\n",
              "  </tbody>\n",
              "</table>\n",
              "</div>"
            ],
            "text/plain": [
              "        count      mean       std  min  25%   50%   75%   max\n",
              "sex                                                          \n",
              "Female   87.0  2.833448  1.159495  1.0  2.0  2.75  3.50   6.5\n",
              "Male    157.0  3.089618  1.489102  1.0  2.0  3.00  3.76  10.0"
            ]
          },
          "metadata": {
            "tags": []
          },
          "execution_count": 95
        }
      ]
    },
    {
      "cell_type": "markdown",
      "metadata": {
        "id": "6d_1Rz9VptXg",
        "colab_type": "text"
      },
      "source": [
        "Ans7)3.089-2.833=0.2\n",
        " \n",
        "The difference between the mean of both the genders is 0.2. Hence we can say that male tip a little more than female customers."
      ]
    },
    {
      "cell_type": "markdown",
      "metadata": {
        "id": "PQIMhqTxqfGY",
        "colab_type": "text"
      },
      "source": [
        "8) Does the average tip differ by the time of day?"
      ]
    },
    {
      "cell_type": "code",
      "metadata": {
        "id": "KGWy5nU3m2bR",
        "colab_type": "code",
        "colab": {
          "base_uri": "https://localhost:8080/",
          "height": 142
        },
        "outputId": "d3bba9e4-fe0e-4223-e6e7-5c31c6fbc622"
      },
      "source": [
        "avg_tip_time=df.groupby(['time'])\n",
        "avg_tip_time.describe()['tip']"
      ],
      "execution_count": 96,
      "outputs": [
        {
          "output_type": "execute_result",
          "data": {
            "text/html": [
              "<div>\n",
              "<style scoped>\n",
              "    .dataframe tbody tr th:only-of-type {\n",
              "        vertical-align: middle;\n",
              "    }\n",
              "\n",
              "    .dataframe tbody tr th {\n",
              "        vertical-align: top;\n",
              "    }\n",
              "\n",
              "    .dataframe thead th {\n",
              "        text-align: right;\n",
              "    }\n",
              "</style>\n",
              "<table border=\"1\" class=\"dataframe\">\n",
              "  <thead>\n",
              "    <tr style=\"text-align: right;\">\n",
              "      <th></th>\n",
              "      <th>count</th>\n",
              "      <th>mean</th>\n",
              "      <th>std</th>\n",
              "      <th>min</th>\n",
              "      <th>25%</th>\n",
              "      <th>50%</th>\n",
              "      <th>75%</th>\n",
              "      <th>max</th>\n",
              "    </tr>\n",
              "    <tr>\n",
              "      <th>time</th>\n",
              "      <th></th>\n",
              "      <th></th>\n",
              "      <th></th>\n",
              "      <th></th>\n",
              "      <th></th>\n",
              "      <th></th>\n",
              "      <th></th>\n",
              "      <th></th>\n",
              "    </tr>\n",
              "  </thead>\n",
              "  <tbody>\n",
              "    <tr>\n",
              "      <th>Dinner</th>\n",
              "      <td>176.0</td>\n",
              "      <td>3.102670</td>\n",
              "      <td>1.436243</td>\n",
              "      <td>1.00</td>\n",
              "      <td>2.0</td>\n",
              "      <td>3.00</td>\n",
              "      <td>3.6875</td>\n",
              "      <td>10.0</td>\n",
              "    </tr>\n",
              "    <tr>\n",
              "      <th>Lunch</th>\n",
              "      <td>68.0</td>\n",
              "      <td>2.728088</td>\n",
              "      <td>1.205345</td>\n",
              "      <td>1.25</td>\n",
              "      <td>2.0</td>\n",
              "      <td>2.25</td>\n",
              "      <td>3.2875</td>\n",
              "      <td>6.7</td>\n",
              "    </tr>\n",
              "  </tbody>\n",
              "</table>\n",
              "</div>"
            ],
            "text/plain": [
              "        count      mean       std   min  25%   50%     75%   max\n",
              "time                                                            \n",
              "Dinner  176.0  3.102670  1.436243  1.00  2.0  3.00  3.6875  10.0\n",
              "Lunch    68.0  2.728088  1.205345  1.25  2.0  2.25  3.2875   6.7"
            ]
          },
          "metadata": {
            "tags": []
          },
          "execution_count": 96
        }
      ]
    },
    {
      "cell_type": "markdown",
      "metadata": {
        "id": "rm6XNSxAqhJ8",
        "colab_type": "text"
      },
      "source": [
        "Ans8) 3.102670-2.728088=0.3\n",
        "\n",
        "The difference between the mean of timingds is 0.3. Hence we can say that during the dinner the tip is a little more than lunch."
      ]
    },
    {
      "cell_type": "markdown",
      "metadata": {
        "id": "hz_rHp2hrp12",
        "colab_type": "text"
      },
      "source": [
        "9) Does the average tip differ by size (number of people at the table)?"
      ]
    },
    {
      "cell_type": "code",
      "metadata": {
        "id": "1BYeNm2YqYPT",
        "colab_type": "code",
        "colab": {
          "base_uri": "https://localhost:8080/",
          "height": 266
        },
        "outputId": "14f6d36d-7d2d-4e59-c443-efb7a097b346"
      },
      "source": [
        "avg_tip_size=df.groupby(['size'])\n",
        "avg_tip_size.describe()['tip']"
      ],
      "execution_count": 97,
      "outputs": [
        {
          "output_type": "execute_result",
          "data": {
            "text/html": [
              "<div>\n",
              "<style scoped>\n",
              "    .dataframe tbody tr th:only-of-type {\n",
              "        vertical-align: middle;\n",
              "    }\n",
              "\n",
              "    .dataframe tbody tr th {\n",
              "        vertical-align: top;\n",
              "    }\n",
              "\n",
              "    .dataframe thead th {\n",
              "        text-align: right;\n",
              "    }\n",
              "</style>\n",
              "<table border=\"1\" class=\"dataframe\">\n",
              "  <thead>\n",
              "    <tr style=\"text-align: right;\">\n",
              "      <th></th>\n",
              "      <th>count</th>\n",
              "      <th>mean</th>\n",
              "      <th>std</th>\n",
              "      <th>min</th>\n",
              "      <th>25%</th>\n",
              "      <th>50%</th>\n",
              "      <th>75%</th>\n",
              "      <th>max</th>\n",
              "    </tr>\n",
              "    <tr>\n",
              "      <th>size</th>\n",
              "      <th></th>\n",
              "      <th></th>\n",
              "      <th></th>\n",
              "      <th></th>\n",
              "      <th></th>\n",
              "      <th></th>\n",
              "      <th></th>\n",
              "      <th></th>\n",
              "    </tr>\n",
              "  </thead>\n",
              "  <tbody>\n",
              "    <tr>\n",
              "      <th>1.0</th>\n",
              "      <td>4.0</td>\n",
              "      <td>1.437500</td>\n",
              "      <td>0.506516</td>\n",
              "      <td>1.00</td>\n",
              "      <td>1.0000</td>\n",
              "      <td>1.415</td>\n",
              "      <td>1.8525</td>\n",
              "      <td>1.92</td>\n",
              "    </tr>\n",
              "    <tr>\n",
              "      <th>2.0</th>\n",
              "      <td>156.0</td>\n",
              "      <td>2.582308</td>\n",
              "      <td>0.985501</td>\n",
              "      <td>1.00</td>\n",
              "      <td>2.0000</td>\n",
              "      <td>2.500</td>\n",
              "      <td>3.1450</td>\n",
              "      <td>5.85</td>\n",
              "    </tr>\n",
              "    <tr>\n",
              "      <th>3.0</th>\n",
              "      <td>38.0</td>\n",
              "      <td>3.393158</td>\n",
              "      <td>1.557344</td>\n",
              "      <td>1.36</td>\n",
              "      <td>2.3575</td>\n",
              "      <td>3.290</td>\n",
              "      <td>3.6825</td>\n",
              "      <td>10.00</td>\n",
              "    </tr>\n",
              "    <tr>\n",
              "      <th>4.0</th>\n",
              "      <td>37.0</td>\n",
              "      <td>4.135405</td>\n",
              "      <td>1.640668</td>\n",
              "      <td>2.00</td>\n",
              "      <td>3.0000</td>\n",
              "      <td>3.760</td>\n",
              "      <td>5.0700</td>\n",
              "      <td>9.00</td>\n",
              "    </tr>\n",
              "    <tr>\n",
              "      <th>5.0</th>\n",
              "      <td>5.0</td>\n",
              "      <td>4.028000</td>\n",
              "      <td>1.440111</td>\n",
              "      <td>2.00</td>\n",
              "      <td>3.0000</td>\n",
              "      <td>5.000</td>\n",
              "      <td>5.0000</td>\n",
              "      <td>5.14</td>\n",
              "    </tr>\n",
              "    <tr>\n",
              "      <th>6.0</th>\n",
              "      <td>4.0</td>\n",
              "      <td>5.225000</td>\n",
              "      <td>1.053170</td>\n",
              "      <td>4.20</td>\n",
              "      <td>4.8000</td>\n",
              "      <td>5.000</td>\n",
              "      <td>5.4250</td>\n",
              "      <td>6.70</td>\n",
              "    </tr>\n",
              "  </tbody>\n",
              "</table>\n",
              "</div>"
            ],
            "text/plain": [
              "      count      mean       std   min     25%    50%     75%    max\n",
              "size                                                               \n",
              "1.0     4.0  1.437500  0.506516  1.00  1.0000  1.415  1.8525   1.92\n",
              "2.0   156.0  2.582308  0.985501  1.00  2.0000  2.500  3.1450   5.85\n",
              "3.0    38.0  3.393158  1.557344  1.36  2.3575  3.290  3.6825  10.00\n",
              "4.0    37.0  4.135405  1.640668  2.00  3.0000  3.760  5.0700   9.00\n",
              "5.0     5.0  4.028000  1.440111  2.00  3.0000  5.000  5.0000   5.14\n",
              "6.0     4.0  5.225000  1.053170  4.20  4.8000  5.000  5.4250   6.70"
            ]
          },
          "metadata": {
            "tags": []
          },
          "execution_count": 97
        }
      ]
    },
    {
      "cell_type": "markdown",
      "metadata": {
        "id": "gDhFUNRWsDW-",
        "colab_type": "text"
      },
      "source": [
        "Ans9) As we can see from the table increase in the number of people increases the tip as well. "
      ]
    },
    {
      "cell_type": "markdown",
      "metadata": {
        "id": "58yNX_bzsUYX",
        "colab_type": "text"
      },
      "source": [
        "10) Do smokers tip more than non-smokers?"
      ]
    },
    {
      "cell_type": "code",
      "metadata": {
        "id": "RRiYuTpOsACJ",
        "colab_type": "code",
        "colab": {
          "base_uri": "https://localhost:8080/",
          "height": 142
        },
        "outputId": "d088fa9c-bb49-4708-b759-f54a73e2d327"
      },
      "source": [
        "avg_tip_smoker=df.groupby(['smoker'])\n",
        "avg_tip_smoker.describe()['tip']"
      ],
      "execution_count": 98,
      "outputs": [
        {
          "output_type": "execute_result",
          "data": {
            "text/html": [
              "<div>\n",
              "<style scoped>\n",
              "    .dataframe tbody tr th:only-of-type {\n",
              "        vertical-align: middle;\n",
              "    }\n",
              "\n",
              "    .dataframe tbody tr th {\n",
              "        vertical-align: top;\n",
              "    }\n",
              "\n",
              "    .dataframe thead th {\n",
              "        text-align: right;\n",
              "    }\n",
              "</style>\n",
              "<table border=\"1\" class=\"dataframe\">\n",
              "  <thead>\n",
              "    <tr style=\"text-align: right;\">\n",
              "      <th></th>\n",
              "      <th>count</th>\n",
              "      <th>mean</th>\n",
              "      <th>std</th>\n",
              "      <th>min</th>\n",
              "      <th>25%</th>\n",
              "      <th>50%</th>\n",
              "      <th>75%</th>\n",
              "      <th>max</th>\n",
              "    </tr>\n",
              "    <tr>\n",
              "      <th>smoker</th>\n",
              "      <th></th>\n",
              "      <th></th>\n",
              "      <th></th>\n",
              "      <th></th>\n",
              "      <th></th>\n",
              "      <th></th>\n",
              "      <th></th>\n",
              "      <th></th>\n",
              "    </tr>\n",
              "  </thead>\n",
              "  <tbody>\n",
              "    <tr>\n",
              "      <th>No</th>\n",
              "      <td>151.0</td>\n",
              "      <td>2.991854</td>\n",
              "      <td>1.377190</td>\n",
              "      <td>1.0</td>\n",
              "      <td>2.0</td>\n",
              "      <td>2.74</td>\n",
              "      <td>3.505</td>\n",
              "      <td>9.0</td>\n",
              "    </tr>\n",
              "    <tr>\n",
              "      <th>Yes</th>\n",
              "      <td>93.0</td>\n",
              "      <td>3.008710</td>\n",
              "      <td>1.401468</td>\n",
              "      <td>1.0</td>\n",
              "      <td>2.0</td>\n",
              "      <td>3.00</td>\n",
              "      <td>3.680</td>\n",
              "      <td>10.0</td>\n",
              "    </tr>\n",
              "  </tbody>\n",
              "</table>\n",
              "</div>"
            ],
            "text/plain": [
              "        count      mean       std  min  25%   50%    75%   max\n",
              "smoker                                                        \n",
              "No      151.0  2.991854  1.377190  1.0  2.0  2.74  3.505   9.0\n",
              "Yes      93.0  3.008710  1.401468  1.0  2.0  3.00  3.680  10.0"
            ]
          },
          "metadata": {
            "tags": []
          },
          "execution_count": 98
        }
      ]
    },
    {
      "cell_type": "markdown",
      "metadata": {
        "id": "jlLqc_hRsh0w",
        "colab_type": "text"
      },
      "source": [
        "Ans10) As we observe in the table the mean value for smokers is a little more than the mean value for non-smokers. It means the smokers do tip more than non-smokers."
      ]
    },
    {
      "cell_type": "markdown",
      "metadata": {
        "id": "_AQcXV3TtUpY",
        "colab_type": "text"
      },
      "source": [
        "11) Gender vs. smoker/non-smoker and tip size - create a 2 by 2 and get the average tip size. Which group tips the most?"
      ]
    },
    {
      "cell_type": "code",
      "metadata": {
        "id": "7z1Om1yKsafQ",
        "colab_type": "code",
        "colab": {
          "base_uri": "https://localhost:8080/",
          "height": 700
        },
        "outputId": "20c98edb-bcf5-4376-cf49-ecf4f575f36f"
      },
      "source": [
        "avg_group1=df.groupby(['sex','smoker','size']).describe()['tip'] \n",
        "avg_group1"
      ],
      "execution_count": 99,
      "outputs": [
        {
          "output_type": "execute_result",
          "data": {
            "text/html": [
              "<div>\n",
              "<style scoped>\n",
              "    .dataframe tbody tr th:only-of-type {\n",
              "        vertical-align: middle;\n",
              "    }\n",
              "\n",
              "    .dataframe tbody tr th {\n",
              "        vertical-align: top;\n",
              "    }\n",
              "\n",
              "    .dataframe thead th {\n",
              "        text-align: right;\n",
              "    }\n",
              "</style>\n",
              "<table border=\"1\" class=\"dataframe\">\n",
              "  <thead>\n",
              "    <tr style=\"text-align: right;\">\n",
              "      <th></th>\n",
              "      <th></th>\n",
              "      <th></th>\n",
              "      <th>count</th>\n",
              "      <th>mean</th>\n",
              "      <th>std</th>\n",
              "      <th>min</th>\n",
              "      <th>25%</th>\n",
              "      <th>50%</th>\n",
              "      <th>75%</th>\n",
              "      <th>max</th>\n",
              "    </tr>\n",
              "    <tr>\n",
              "      <th>sex</th>\n",
              "      <th>smoker</th>\n",
              "      <th>size</th>\n",
              "      <th></th>\n",
              "      <th></th>\n",
              "      <th></th>\n",
              "      <th></th>\n",
              "      <th></th>\n",
              "      <th></th>\n",
              "      <th></th>\n",
              "      <th></th>\n",
              "    </tr>\n",
              "  </thead>\n",
              "  <tbody>\n",
              "    <tr>\n",
              "      <th rowspan=\"10\" valign=\"top\">Female</th>\n",
              "      <th rowspan=\"6\" valign=\"top\">No</th>\n",
              "      <th>1.0</th>\n",
              "      <td>2.0</td>\n",
              "      <td>1.415000</td>\n",
              "      <td>0.586899</td>\n",
              "      <td>1.00</td>\n",
              "      <td>1.2075</td>\n",
              "      <td>1.415</td>\n",
              "      <td>1.6225</td>\n",
              "      <td>1.83</td>\n",
              "    </tr>\n",
              "    <tr>\n",
              "      <th>2.0</th>\n",
              "      <td>33.0</td>\n",
              "      <td>2.370606</td>\n",
              "      <td>0.739539</td>\n",
              "      <td>1.01</td>\n",
              "      <td>1.8000</td>\n",
              "      <td>2.300</td>\n",
              "      <td>3.0000</td>\n",
              "      <td>4.08</td>\n",
              "    </tr>\n",
              "    <tr>\n",
              "      <th>3.0</th>\n",
              "      <td>9.0</td>\n",
              "      <td>2.918889</td>\n",
              "      <td>1.086456</td>\n",
              "      <td>1.36</td>\n",
              "      <td>2.0000</td>\n",
              "      <td>3.000</td>\n",
              "      <td>3.5000</td>\n",
              "      <td>4.67</td>\n",
              "    </tr>\n",
              "    <tr>\n",
              "      <th>4.0</th>\n",
              "      <td>7.0</td>\n",
              "      <td>4.014286</td>\n",
              "      <td>1.124794</td>\n",
              "      <td>2.45</td>\n",
              "      <td>3.2650</td>\n",
              "      <td>3.750</td>\n",
              "      <td>5.0850</td>\n",
              "      <td>5.20</td>\n",
              "    </tr>\n",
              "    <tr>\n",
              "      <th>5.0</th>\n",
              "      <td>1.0</td>\n",
              "      <td>5.140000</td>\n",
              "      <td>NaN</td>\n",
              "      <td>5.14</td>\n",
              "      <td>5.1400</td>\n",
              "      <td>5.140</td>\n",
              "      <td>5.1400</td>\n",
              "      <td>5.14</td>\n",
              "    </tr>\n",
              "    <tr>\n",
              "      <th>6.0</th>\n",
              "      <td>2.0</td>\n",
              "      <td>4.600000</td>\n",
              "      <td>0.565685</td>\n",
              "      <td>4.20</td>\n",
              "      <td>4.4000</td>\n",
              "      <td>4.600</td>\n",
              "      <td>4.8000</td>\n",
              "      <td>5.00</td>\n",
              "    </tr>\n",
              "    <tr>\n",
              "      <th rowspan=\"4\" valign=\"top\">Yes</th>\n",
              "      <th>1.0</th>\n",
              "      <td>1.0</td>\n",
              "      <td>1.000000</td>\n",
              "      <td>NaN</td>\n",
              "      <td>1.00</td>\n",
              "      <td>1.0000</td>\n",
              "      <td>1.000</td>\n",
              "      <td>1.0000</td>\n",
              "      <td>1.00</td>\n",
              "    </tr>\n",
              "    <tr>\n",
              "      <th>2.0</th>\n",
              "      <td>25.0</td>\n",
              "      <td>2.736800</td>\n",
              "      <td>1.020297</td>\n",
              "      <td>1.00</td>\n",
              "      <td>2.0000</td>\n",
              "      <td>2.500</td>\n",
              "      <td>3.4800</td>\n",
              "      <td>5.00</td>\n",
              "    </tr>\n",
              "    <tr>\n",
              "      <th>3.0</th>\n",
              "      <td>5.0</td>\n",
              "      <td>3.846000</td>\n",
              "      <td>1.539019</td>\n",
              "      <td>2.50</td>\n",
              "      <td>3.2300</td>\n",
              "      <td>3.500</td>\n",
              "      <td>3.5000</td>\n",
              "      <td>6.50</td>\n",
              "    </tr>\n",
              "    <tr>\n",
              "      <th>4.0</th>\n",
              "      <td>2.0</td>\n",
              "      <td>4.045000</td>\n",
              "      <td>1.350574</td>\n",
              "      <td>3.09</td>\n",
              "      <td>3.5675</td>\n",
              "      <td>4.045</td>\n",
              "      <td>4.5225</td>\n",
              "      <td>5.00</td>\n",
              "    </tr>\n",
              "    <tr>\n",
              "      <th rowspan=\"10\" valign=\"top\">Male</th>\n",
              "      <th rowspan=\"5\" valign=\"top\">No</th>\n",
              "      <th>2.0</th>\n",
              "      <td>57.0</td>\n",
              "      <td>2.557544</td>\n",
              "      <td>0.981170</td>\n",
              "      <td>1.25</td>\n",
              "      <td>1.9600</td>\n",
              "      <td>2.500</td>\n",
              "      <td>3.1800</td>\n",
              "      <td>5.85</td>\n",
              "    </tr>\n",
              "    <tr>\n",
              "      <th>3.0</th>\n",
              "      <td>17.0</td>\n",
              "      <td>3.148824</td>\n",
              "      <td>1.125299</td>\n",
              "      <td>1.66</td>\n",
              "      <td>2.2400</td>\n",
              "      <td>3.150</td>\n",
              "      <td>3.6000</td>\n",
              "      <td>5.92</td>\n",
              "    </tr>\n",
              "    <tr>\n",
              "      <th>4.0</th>\n",
              "      <td>19.0</td>\n",
              "      <td>4.262632</td>\n",
              "      <td>2.007809</td>\n",
              "      <td>2.00</td>\n",
              "      <td>2.7500</td>\n",
              "      <td>4.000</td>\n",
              "      <td>5.3350</td>\n",
              "      <td>9.00</td>\n",
              "    </tr>\n",
              "    <tr>\n",
              "      <th>5.0</th>\n",
              "      <td>2.0</td>\n",
              "      <td>5.000000</td>\n",
              "      <td>0.000000</td>\n",
              "      <td>5.00</td>\n",
              "      <td>5.0000</td>\n",
              "      <td>5.000</td>\n",
              "      <td>5.0000</td>\n",
              "      <td>5.00</td>\n",
              "    </tr>\n",
              "    <tr>\n",
              "      <th>6.0</th>\n",
              "      <td>2.0</td>\n",
              "      <td>5.850000</td>\n",
              "      <td>1.202082</td>\n",
              "      <td>5.00</td>\n",
              "      <td>5.4250</td>\n",
              "      <td>5.850</td>\n",
              "      <td>6.2750</td>\n",
              "      <td>6.70</td>\n",
              "    </tr>\n",
              "    <tr>\n",
              "      <th rowspan=\"5\" valign=\"top\">Yes</th>\n",
              "      <th>1.0</th>\n",
              "      <td>1.0</td>\n",
              "      <td>1.920000</td>\n",
              "      <td>NaN</td>\n",
              "      <td>1.92</td>\n",
              "      <td>1.9200</td>\n",
              "      <td>1.920</td>\n",
              "      <td>1.9200</td>\n",
              "      <td>1.92</td>\n",
              "    </tr>\n",
              "    <tr>\n",
              "      <th>2.0</th>\n",
              "      <td>41.0</td>\n",
              "      <td>2.692927</td>\n",
              "      <td>1.135003</td>\n",
              "      <td>1.00</td>\n",
              "      <td>2.0000</td>\n",
              "      <td>2.200</td>\n",
              "      <td>3.1800</td>\n",
              "      <td>5.65</td>\n",
              "    </tr>\n",
              "    <tr>\n",
              "      <th>3.0</th>\n",
              "      <td>7.0</td>\n",
              "      <td>4.272857</td>\n",
              "      <td>2.616516</td>\n",
              "      <td>2.00</td>\n",
              "      <td>3.2050</td>\n",
              "      <td>3.500</td>\n",
              "      <td>4.0000</td>\n",
              "      <td>10.00</td>\n",
              "    </tr>\n",
              "    <tr>\n",
              "      <th>4.0</th>\n",
              "      <td>9.0</td>\n",
              "      <td>3.981111</td>\n",
              "      <td>1.336286</td>\n",
              "      <td>2.00</td>\n",
              "      <td>3.0000</td>\n",
              "      <td>3.760</td>\n",
              "      <td>4.7300</td>\n",
              "      <td>6.50</td>\n",
              "    </tr>\n",
              "    <tr>\n",
              "      <th>5.0</th>\n",
              "      <td>2.0</td>\n",
              "      <td>2.500000</td>\n",
              "      <td>0.707107</td>\n",
              "      <td>2.00</td>\n",
              "      <td>2.2500</td>\n",
              "      <td>2.500</td>\n",
              "      <td>2.7500</td>\n",
              "      <td>3.00</td>\n",
              "    </tr>\n",
              "  </tbody>\n",
              "</table>\n",
              "</div>"
            ],
            "text/plain": [
              "                    count      mean       std  ...    50%     75%    max\n",
              "sex    smoker size                             ...                      \n",
              "Female No     1.0     2.0  1.415000  0.586899  ...  1.415  1.6225   1.83\n",
              "              2.0    33.0  2.370606  0.739539  ...  2.300  3.0000   4.08\n",
              "              3.0     9.0  2.918889  1.086456  ...  3.000  3.5000   4.67\n",
              "              4.0     7.0  4.014286  1.124794  ...  3.750  5.0850   5.20\n",
              "              5.0     1.0  5.140000       NaN  ...  5.140  5.1400   5.14\n",
              "              6.0     2.0  4.600000  0.565685  ...  4.600  4.8000   5.00\n",
              "       Yes    1.0     1.0  1.000000       NaN  ...  1.000  1.0000   1.00\n",
              "              2.0    25.0  2.736800  1.020297  ...  2.500  3.4800   5.00\n",
              "              3.0     5.0  3.846000  1.539019  ...  3.500  3.5000   6.50\n",
              "              4.0     2.0  4.045000  1.350574  ...  4.045  4.5225   5.00\n",
              "Male   No     2.0    57.0  2.557544  0.981170  ...  2.500  3.1800   5.85\n",
              "              3.0    17.0  3.148824  1.125299  ...  3.150  3.6000   5.92\n",
              "              4.0    19.0  4.262632  2.007809  ...  4.000  5.3350   9.00\n",
              "              5.0     2.0  5.000000  0.000000  ...  5.000  5.0000   5.00\n",
              "              6.0     2.0  5.850000  1.202082  ...  5.850  6.2750   6.70\n",
              "       Yes    1.0     1.0  1.920000       NaN  ...  1.920  1.9200   1.92\n",
              "              2.0    41.0  2.692927  1.135003  ...  2.200  3.1800   5.65\n",
              "              3.0     7.0  4.272857  2.616516  ...  3.500  4.0000  10.00\n",
              "              4.0     9.0  3.981111  1.336286  ...  3.760  4.7300   6.50\n",
              "              5.0     2.0  2.500000  0.707107  ...  2.500  2.7500   3.00\n",
              "\n",
              "[20 rows x 8 columns]"
            ]
          },
          "metadata": {
            "tags": []
          },
          "execution_count": 99
        }
      ]
    },
    {
      "cell_type": "markdown",
      "metadata": {
        "id": "BWafp59k390G",
        "colab_type": "text"
      },
      "source": [
        "Ans11) Non-smoker male size of 6 tip the most."
      ]
    },
    {
      "cell_type": "markdown",
      "metadata": {
        "id": "tnGuUlw44XpX",
        "colab_type": "text"
      },
      "source": [
        "12) Create a new metric called 'pct_tip' = tip/ total_bill - this would be percent tip give, and should be a better measure of the tipping behaviour."
      ]
    },
    {
      "cell_type": "code",
      "metadata": {
        "id": "kao4SuHdy-2p",
        "colab_type": "code",
        "colab": {
          "base_uri": "https://localhost:8080/",
          "height": 204
        },
        "outputId": "75494a43-dfb8-4108-d06d-10fd1c1dd9b0"
      },
      "source": [
        "df['pct_tip']=df['tip']/df['total_bill']*100\n",
        "df.head()"
      ],
      "execution_count": 103,
      "outputs": [
        {
          "output_type": "execute_result",
          "data": {
            "text/html": [
              "<div>\n",
              "<style scoped>\n",
              "    .dataframe tbody tr th:only-of-type {\n",
              "        vertical-align: middle;\n",
              "    }\n",
              "\n",
              "    .dataframe tbody tr th {\n",
              "        vertical-align: top;\n",
              "    }\n",
              "\n",
              "    .dataframe thead th {\n",
              "        text-align: right;\n",
              "    }\n",
              "</style>\n",
              "<table border=\"1\" class=\"dataframe\">\n",
              "  <thead>\n",
              "    <tr style=\"text-align: right;\">\n",
              "      <th></th>\n",
              "      <th>total_bill</th>\n",
              "      <th>tip</th>\n",
              "      <th>sex</th>\n",
              "      <th>smoker</th>\n",
              "      <th>day</th>\n",
              "      <th>time</th>\n",
              "      <th>size</th>\n",
              "      <th>pct_tip</th>\n",
              "    </tr>\n",
              "  </thead>\n",
              "  <tbody>\n",
              "    <tr>\n",
              "      <th>0</th>\n",
              "      <td>16.99</td>\n",
              "      <td>1.01</td>\n",
              "      <td>Female</td>\n",
              "      <td>No</td>\n",
              "      <td>Sun</td>\n",
              "      <td>Dinner</td>\n",
              "      <td>2.0</td>\n",
              "      <td>5.944673</td>\n",
              "    </tr>\n",
              "    <tr>\n",
              "      <th>1</th>\n",
              "      <td>10.34</td>\n",
              "      <td>1.66</td>\n",
              "      <td>Male</td>\n",
              "      <td>No</td>\n",
              "      <td>Sun</td>\n",
              "      <td>Dinner</td>\n",
              "      <td>3.0</td>\n",
              "      <td>16.054159</td>\n",
              "    </tr>\n",
              "    <tr>\n",
              "      <th>2</th>\n",
              "      <td>21.01</td>\n",
              "      <td>3.50</td>\n",
              "      <td>Male</td>\n",
              "      <td>No</td>\n",
              "      <td>Sun</td>\n",
              "      <td>Dinner</td>\n",
              "      <td>3.0</td>\n",
              "      <td>16.658734</td>\n",
              "    </tr>\n",
              "    <tr>\n",
              "      <th>3</th>\n",
              "      <td>23.68</td>\n",
              "      <td>3.31</td>\n",
              "      <td>Male</td>\n",
              "      <td>No</td>\n",
              "      <td>Sun</td>\n",
              "      <td>Dinner</td>\n",
              "      <td>2.0</td>\n",
              "      <td>13.978041</td>\n",
              "    </tr>\n",
              "    <tr>\n",
              "      <th>4</th>\n",
              "      <td>24.59</td>\n",
              "      <td>3.61</td>\n",
              "      <td>Female</td>\n",
              "      <td>No</td>\n",
              "      <td>Sun</td>\n",
              "      <td>Dinner</td>\n",
              "      <td>4.0</td>\n",
              "      <td>14.680765</td>\n",
              "    </tr>\n",
              "  </tbody>\n",
              "</table>\n",
              "</div>"
            ],
            "text/plain": [
              "   total_bill   tip     sex smoker  day    time  size    pct_tip\n",
              "0       16.99  1.01  Female     No  Sun  Dinner   2.0   5.944673\n",
              "1       10.34  1.66    Male     No  Sun  Dinner   3.0  16.054159\n",
              "2       21.01  3.50    Male     No  Sun  Dinner   3.0  16.658734\n",
              "3       23.68  3.31    Male     No  Sun  Dinner   2.0  13.978041\n",
              "4       24.59  3.61  Female     No  Sun  Dinner   4.0  14.680765"
            ]
          },
          "metadata": {
            "tags": []
          },
          "execution_count": 103
        }
      ]
    },
    {
      "cell_type": "markdown",
      "metadata": {
        "id": "rtN8Nxzw5dAU",
        "colab_type": "text"
      },
      "source": [
        "13) Does pct_tip differ by gender? Does one gender tip more than the other?"
      ]
    },
    {
      "cell_type": "code",
      "metadata": {
        "id": "Ev_zGJvn446f",
        "colab_type": "code",
        "colab": {
          "base_uri": "https://localhost:8080/",
          "height": 142
        },
        "outputId": "78b72622-209f-40b9-cf02-18747ce6fcfb"
      },
      "source": [
        "avg_pct_sex=df.groupby(['sex']).describe()['pct_tip']\n",
        "avg_pct_sex"
      ],
      "execution_count": 104,
      "outputs": [
        {
          "output_type": "execute_result",
          "data": {
            "text/html": [
              "<div>\n",
              "<style scoped>\n",
              "    .dataframe tbody tr th:only-of-type {\n",
              "        vertical-align: middle;\n",
              "    }\n",
              "\n",
              "    .dataframe tbody tr th {\n",
              "        vertical-align: top;\n",
              "    }\n",
              "\n",
              "    .dataframe thead th {\n",
              "        text-align: right;\n",
              "    }\n",
              "</style>\n",
              "<table border=\"1\" class=\"dataframe\">\n",
              "  <thead>\n",
              "    <tr style=\"text-align: right;\">\n",
              "      <th></th>\n",
              "      <th>count</th>\n",
              "      <th>mean</th>\n",
              "      <th>std</th>\n",
              "      <th>min</th>\n",
              "      <th>25%</th>\n",
              "      <th>50%</th>\n",
              "      <th>75%</th>\n",
              "      <th>max</th>\n",
              "    </tr>\n",
              "    <tr>\n",
              "      <th>sex</th>\n",
              "      <th></th>\n",
              "      <th></th>\n",
              "      <th></th>\n",
              "      <th></th>\n",
              "      <th></th>\n",
              "      <th></th>\n",
              "      <th></th>\n",
              "      <th></th>\n",
              "    </tr>\n",
              "  </thead>\n",
              "  <tbody>\n",
              "    <tr>\n",
              "      <th>Female</th>\n",
              "      <td>87.0</td>\n",
              "      <td>16.649074</td>\n",
              "      <td>5.363173</td>\n",
              "      <td>5.643341</td>\n",
              "      <td>14.041645</td>\n",
              "      <td>15.558149</td>\n",
              "      <td>19.426621</td>\n",
              "      <td>41.666667</td>\n",
              "    </tr>\n",
              "    <tr>\n",
              "      <th>Male</th>\n",
              "      <td>157.0</td>\n",
              "      <td>15.765055</td>\n",
              "      <td>6.477787</td>\n",
              "      <td>3.563814</td>\n",
              "      <td>12.138869</td>\n",
              "      <td>15.349194</td>\n",
              "      <td>18.623962</td>\n",
              "      <td>71.034483</td>\n",
              "    </tr>\n",
              "  </tbody>\n",
              "</table>\n",
              "</div>"
            ],
            "text/plain": [
              "        count       mean       std  ...        50%        75%        max\n",
              "sex                                 ...                                 \n",
              "Female   87.0  16.649074  5.363173  ...  15.558149  19.426621  41.666667\n",
              "Male    157.0  15.765055  6.477787  ...  15.349194  18.623962  71.034483\n",
              "\n",
              "[2 rows x 8 columns]"
            ]
          },
          "metadata": {
            "tags": []
          },
          "execution_count": 104
        }
      ]
    },
    {
      "cell_type": "markdown",
      "metadata": {
        "id": "hqi20KOU6UAR",
        "colab_type": "text"
      },
      "source": [
        "Ans13) Yes pct_tip differs by gender. Females tip % more than male tip %."
      ]
    },
    {
      "cell_type": "markdown",
      "metadata": {
        "id": "G0io5ZGk6-T2",
        "colab_type": "text"
      },
      "source": [
        "14) Does pct_tip differ by size (number of people at the table)? "
      ]
    },
    {
      "cell_type": "code",
      "metadata": {
        "id": "nx2vIhKN6DaD",
        "colab_type": "code",
        "colab": {
          "base_uri": "https://localhost:8080/",
          "height": 266
        },
        "outputId": "a5d359f2-03fc-4dda-a27b-ea2353bf6fa6"
      },
      "source": [
        "avg_pct_size=df.groupby(['size']).describe()['pct_tip']\n",
        "avg_pct_size"
      ],
      "execution_count": 105,
      "outputs": [
        {
          "output_type": "execute_result",
          "data": {
            "text/html": [
              "<div>\n",
              "<style scoped>\n",
              "    .dataframe tbody tr th:only-of-type {\n",
              "        vertical-align: middle;\n",
              "    }\n",
              "\n",
              "    .dataframe tbody tr th {\n",
              "        vertical-align: top;\n",
              "    }\n",
              "\n",
              "    .dataframe thead th {\n",
              "        text-align: right;\n",
              "    }\n",
              "</style>\n",
              "<table border=\"1\" class=\"dataframe\">\n",
              "  <thead>\n",
              "    <tr style=\"text-align: right;\">\n",
              "      <th></th>\n",
              "      <th>count</th>\n",
              "      <th>mean</th>\n",
              "      <th>std</th>\n",
              "      <th>min</th>\n",
              "      <th>25%</th>\n",
              "      <th>50%</th>\n",
              "      <th>75%</th>\n",
              "      <th>max</th>\n",
              "    </tr>\n",
              "    <tr>\n",
              "      <th>size</th>\n",
              "      <th></th>\n",
              "      <th></th>\n",
              "      <th></th>\n",
              "      <th></th>\n",
              "      <th></th>\n",
              "      <th></th>\n",
              "      <th></th>\n",
              "      <th></th>\n",
              "    </tr>\n",
              "  </thead>\n",
              "  <tbody>\n",
              "    <tr>\n",
              "      <th>1.0</th>\n",
              "      <td>4.0</td>\n",
              "      <td>21.729202</td>\n",
              "      <td>8.034186</td>\n",
              "      <td>13.793103</td>\n",
              "      <td>17.077869</td>\n",
              "      <td>20.275206</td>\n",
              "      <td>24.926539</td>\n",
              "      <td>32.573290</td>\n",
              "    </tr>\n",
              "    <tr>\n",
              "      <th>2.0</th>\n",
              "      <td>156.0</td>\n",
              "      <td>16.571919</td>\n",
              "      <td>6.684824</td>\n",
              "      <td>3.563814</td>\n",
              "      <td>13.522313</td>\n",
              "      <td>15.610418</td>\n",
              "      <td>19.503614</td>\n",
              "      <td>71.034483</td>\n",
              "    </tr>\n",
              "    <tr>\n",
              "      <th>3.0</th>\n",
              "      <td>38.0</td>\n",
              "      <td>15.215685</td>\n",
              "      <td>4.545887</td>\n",
              "      <td>5.643341</td>\n",
              "      <td>12.475755</td>\n",
              "      <td>15.932311</td>\n",
              "      <td>18.613473</td>\n",
              "      <td>23.074192</td>\n",
              "    </tr>\n",
              "    <tr>\n",
              "      <th>4.0</th>\n",
              "      <td>37.0</td>\n",
              "      <td>14.594901</td>\n",
              "      <td>4.239533</td>\n",
              "      <td>7.745933</td>\n",
              "      <td>11.774956</td>\n",
              "      <td>14.669927</td>\n",
              "      <td>16.979656</td>\n",
              "      <td>28.053517</td>\n",
              "    </tr>\n",
              "    <tr>\n",
              "      <th>5.0</th>\n",
              "      <td>5.0</td>\n",
              "      <td>14.149549</td>\n",
              "      <td>6.773266</td>\n",
              "      <td>6.565988</td>\n",
              "      <td>10.657194</td>\n",
              "      <td>12.138869</td>\n",
              "      <td>17.219430</td>\n",
              "      <td>24.166264</td>\n",
              "    </tr>\n",
              "    <tr>\n",
              "      <th>6.0</th>\n",
              "      <td>4.0</td>\n",
              "      <td>15.622920</td>\n",
              "      <td>4.215338</td>\n",
              "      <td>10.379905</td>\n",
              "      <td>13.165446</td>\n",
              "      <td>16.289124</td>\n",
              "      <td>18.746598</td>\n",
              "      <td>19.533528</td>\n",
              "    </tr>\n",
              "  </tbody>\n",
              "</table>\n",
              "</div>"
            ],
            "text/plain": [
              "      count       mean       std  ...        50%        75%        max\n",
              "size                              ...                                 \n",
              "1.0     4.0  21.729202  8.034186  ...  20.275206  24.926539  32.573290\n",
              "2.0   156.0  16.571919  6.684824  ...  15.610418  19.503614  71.034483\n",
              "3.0    38.0  15.215685  4.545887  ...  15.932311  18.613473  23.074192\n",
              "4.0    37.0  14.594901  4.239533  ...  14.669927  16.979656  28.053517\n",
              "5.0     5.0  14.149549  6.773266  ...  12.138869  17.219430  24.166264\n",
              "6.0     4.0  15.622920  4.215338  ...  16.289124  18.746598  19.533528\n",
              "\n",
              "[6 rows x 8 columns]"
            ]
          },
          "metadata": {
            "tags": []
          },
          "execution_count": 105
        }
      ]
    },
    {
      "cell_type": "markdown",
      "metadata": {
        "id": "qI9TkxIi7RK6",
        "colab_type": "text"
      },
      "source": [
        "Ans14) Yes pct tip differs by size."
      ]
    },
    {
      "cell_type": "markdown",
      "metadata": {
        "id": "Z0mFNYsp7uLh",
        "colab_type": "text"
      },
      "source": [
        "15) Make the gender vs. smoker view using pct_tip  - does your inference change?"
      ]
    },
    {
      "cell_type": "code",
      "metadata": {
        "id": "M4bWOo_47GTX",
        "colab_type": "code",
        "colab": {
          "base_uri": "https://localhost:8080/",
          "height": 700
        },
        "outputId": "527de473-6bdc-4d9d-82b1-6a6486440dcc"
      },
      "source": [
        "avg_group2=df.groupby(['sex','smoker','size']).describe()['pct_tip'] \n",
        "avg_group2"
      ],
      "execution_count": 107,
      "outputs": [
        {
          "output_type": "execute_result",
          "data": {
            "text/html": [
              "<div>\n",
              "<style scoped>\n",
              "    .dataframe tbody tr th:only-of-type {\n",
              "        vertical-align: middle;\n",
              "    }\n",
              "\n",
              "    .dataframe tbody tr th {\n",
              "        vertical-align: top;\n",
              "    }\n",
              "\n",
              "    .dataframe thead th {\n",
              "        text-align: right;\n",
              "    }\n",
              "</style>\n",
              "<table border=\"1\" class=\"dataframe\">\n",
              "  <thead>\n",
              "    <tr style=\"text-align: right;\">\n",
              "      <th></th>\n",
              "      <th></th>\n",
              "      <th></th>\n",
              "      <th>count</th>\n",
              "      <th>mean</th>\n",
              "      <th>std</th>\n",
              "      <th>min</th>\n",
              "      <th>25%</th>\n",
              "      <th>50%</th>\n",
              "      <th>75%</th>\n",
              "      <th>max</th>\n",
              "    </tr>\n",
              "    <tr>\n",
              "      <th>sex</th>\n",
              "      <th>smoker</th>\n",
              "      <th>size</th>\n",
              "      <th></th>\n",
              "      <th></th>\n",
              "      <th></th>\n",
              "      <th></th>\n",
              "      <th></th>\n",
              "      <th></th>\n",
              "      <th></th>\n",
              "      <th></th>\n",
              "    </tr>\n",
              "  </thead>\n",
              "  <tbody>\n",
              "    <tr>\n",
              "      <th rowspan=\"10\" valign=\"top\">Female</th>\n",
              "      <th rowspan=\"6\" valign=\"top\">No</th>\n",
              "      <th>1.0</th>\n",
              "      <td>2.0</td>\n",
              "      <td>15.982947</td>\n",
              "      <td>3.096906</td>\n",
              "      <td>13.793103</td>\n",
              "      <td>14.888025</td>\n",
              "      <td>15.982947</td>\n",
              "      <td>17.077869</td>\n",
              "      <td>18.172790</td>\n",
              "    </tr>\n",
              "    <tr>\n",
              "      <th>2.0</th>\n",
              "      <td>33.0</td>\n",
              "      <td>16.015156</td>\n",
              "      <td>4.000626</td>\n",
              "      <td>5.679667</td>\n",
              "      <td>13.998783</td>\n",
              "      <td>15.015198</td>\n",
              "      <td>19.492158</td>\n",
              "      <td>25.267250</td>\n",
              "    </tr>\n",
              "    <tr>\n",
              "      <th>3.0</th>\n",
              "      <td>9.0</td>\n",
              "      <td>15.499879</td>\n",
              "      <td>4.062760</td>\n",
              "      <td>7.296137</td>\n",
              "      <td>13.033771</td>\n",
              "      <td>16.166505</td>\n",
              "      <td>18.133491</td>\n",
              "      <td>20.624632</td>\n",
              "    </tr>\n",
              "    <tr>\n",
              "      <th>4.0</th>\n",
              "      <td>7.0</td>\n",
              "      <td>13.944374</td>\n",
              "      <td>1.368475</td>\n",
              "      <td>11.841469</td>\n",
              "      <td>13.153310</td>\n",
              "      <td>14.680765</td>\n",
              "      <td>14.890881</td>\n",
              "      <td>15.000000</td>\n",
              "    </tr>\n",
              "    <tr>\n",
              "      <th>5.0</th>\n",
              "      <td>1.0</td>\n",
              "      <td>17.219430</td>\n",
              "      <td>NaN</td>\n",
              "      <td>17.219430</td>\n",
              "      <td>17.219430</td>\n",
              "      <td>17.219430</td>\n",
              "      <td>17.219430</td>\n",
              "      <td>17.219430</td>\n",
              "    </tr>\n",
              "    <tr>\n",
              "      <th>6.0</th>\n",
              "      <td>2.0</td>\n",
              "      <td>16.289124</td>\n",
              "      <td>3.104431</td>\n",
              "      <td>14.093960</td>\n",
              "      <td>15.191542</td>\n",
              "      <td>16.289124</td>\n",
              "      <td>17.386706</td>\n",
              "      <td>18.484288</td>\n",
              "    </tr>\n",
              "    <tr>\n",
              "      <th rowspan=\"4\" valign=\"top\">Yes</th>\n",
              "      <th>1.0</th>\n",
              "      <td>1.0</td>\n",
              "      <td>32.573290</td>\n",
              "      <td>NaN</td>\n",
              "      <td>32.573290</td>\n",
              "      <td>32.573290</td>\n",
              "      <td>32.573290</td>\n",
              "      <td>32.573290</td>\n",
              "      <td>32.573290</td>\n",
              "    </tr>\n",
              "    <tr>\n",
              "      <th>2.0</th>\n",
              "      <td>25.0</td>\n",
              "      <td>18.492535</td>\n",
              "      <td>6.886175</td>\n",
              "      <td>7.358352</td>\n",
              "      <td>15.365704</td>\n",
              "      <td>17.391304</td>\n",
              "      <td>19.821606</td>\n",
              "      <td>41.666667</td>\n",
              "    </tr>\n",
              "    <tr>\n",
              "      <th>3.0</th>\n",
              "      <td>5.0</td>\n",
              "      <td>16.871821</td>\n",
              "      <td>6.668708</td>\n",
              "      <td>5.643341</td>\n",
              "      <td>16.746411</td>\n",
              "      <td>19.283747</td>\n",
              "      <td>19.611415</td>\n",
              "      <td>23.074192</td>\n",
              "    </tr>\n",
              "    <tr>\n",
              "      <th>4.0</th>\n",
              "      <td>2.0</td>\n",
              "      <td>10.925197</td>\n",
              "      <td>0.951823</td>\n",
              "      <td>10.252157</td>\n",
              "      <td>10.588677</td>\n",
              "      <td>10.925197</td>\n",
              "      <td>11.261717</td>\n",
              "      <td>11.598237</td>\n",
              "    </tr>\n",
              "    <tr>\n",
              "      <th rowspan=\"10\" valign=\"top\">Male</th>\n",
              "      <th rowspan=\"5\" valign=\"top\">No</th>\n",
              "      <th>2.0</th>\n",
              "      <td>57.0</td>\n",
              "      <td>16.780017</td>\n",
              "      <td>4.382594</td>\n",
              "      <td>7.861635</td>\n",
              "      <td>13.649025</td>\n",
              "      <td>16.389351</td>\n",
              "      <td>19.815668</td>\n",
              "      <td>29.198966</td>\n",
              "    </tr>\n",
              "    <tr>\n",
              "      <th>3.0</th>\n",
              "      <td>17.0</td>\n",
              "      <td>14.685057</td>\n",
              "      <td>3.730034</td>\n",
              "      <td>7.180385</td>\n",
              "      <td>12.359551</td>\n",
              "      <td>15.008528</td>\n",
              "      <td>16.054159</td>\n",
              "      <td>22.774708</td>\n",
              "    </tr>\n",
              "    <tr>\n",
              "      <th>4.0</th>\n",
              "      <td>19.0</td>\n",
              "      <td>15.061108</td>\n",
              "      <td>3.135801</td>\n",
              "      <td>8.146640</td>\n",
              "      <td>13.381332</td>\n",
              "      <td>14.705882</td>\n",
              "      <td>17.700354</td>\n",
              "      <td>19.228818</td>\n",
              "    </tr>\n",
              "    <tr>\n",
              "      <th>5.0</th>\n",
              "      <td>2.0</td>\n",
              "      <td>18.152566</td>\n",
              "      <td>8.504653</td>\n",
              "      <td>12.138869</td>\n",
              "      <td>15.145717</td>\n",
              "      <td>18.152566</td>\n",
              "      <td>21.159415</td>\n",
              "      <td>24.166264</td>\n",
              "    </tr>\n",
              "    <tr>\n",
              "      <th>6.0</th>\n",
              "      <td>2.0</td>\n",
              "      <td>14.956716</td>\n",
              "      <td>6.472589</td>\n",
              "      <td>10.379905</td>\n",
              "      <td>12.668310</td>\n",
              "      <td>14.956716</td>\n",
              "      <td>17.245122</td>\n",
              "      <td>19.533528</td>\n",
              "    </tr>\n",
              "    <tr>\n",
              "      <th rowspan=\"5\" valign=\"top\">Yes</th>\n",
              "      <th>1.0</th>\n",
              "      <td>1.0</td>\n",
              "      <td>22.377622</td>\n",
              "      <td>NaN</td>\n",
              "      <td>22.377622</td>\n",
              "      <td>22.377622</td>\n",
              "      <td>22.377622</td>\n",
              "      <td>22.377622</td>\n",
              "      <td>22.377622</td>\n",
              "    </tr>\n",
              "    <tr>\n",
              "      <th>2.0</th>\n",
              "      <td>41.0</td>\n",
              "      <td>15.559632</td>\n",
              "      <td>10.066912</td>\n",
              "      <td>3.563814</td>\n",
              "      <td>10.355540</td>\n",
              "      <td>14.278915</td>\n",
              "      <td>17.967332</td>\n",
              "      <td>71.034483</td>\n",
              "    </tr>\n",
              "    <tr>\n",
              "      <th>3.0</th>\n",
              "      <td>7.0</td>\n",
              "      <td>14.956009</td>\n",
              "      <td>5.949281</td>\n",
              "      <td>6.653360</td>\n",
              "      <td>10.271060</td>\n",
              "      <td>17.316017</td>\n",
              "      <td>19.400812</td>\n",
              "      <td>21.378942</td>\n",
              "    </tr>\n",
              "    <tr>\n",
              "      <th>4.0</th>\n",
              "      <td>9.0</td>\n",
              "      <td>14.932140</td>\n",
              "      <td>7.270327</td>\n",
              "      <td>7.745933</td>\n",
              "      <td>8.329863</td>\n",
              "      <td>11.774956</td>\n",
              "      <td>19.930475</td>\n",
              "      <td>28.053517</td>\n",
              "    </tr>\n",
              "    <tr>\n",
              "      <th>5.0</th>\n",
              "      <td>2.0</td>\n",
              "      <td>8.611591</td>\n",
              "      <td>2.892919</td>\n",
              "      <td>6.565988</td>\n",
              "      <td>7.588790</td>\n",
              "      <td>8.611591</td>\n",
              "      <td>9.634392</td>\n",
              "      <td>10.657194</td>\n",
              "    </tr>\n",
              "  </tbody>\n",
              "</table>\n",
              "</div>"
            ],
            "text/plain": [
              "                    count       mean  ...        75%        max\n",
              "sex    smoker size                    ...                      \n",
              "Female No     1.0     2.0  15.982947  ...  17.077869  18.172790\n",
              "              2.0    33.0  16.015156  ...  19.492158  25.267250\n",
              "              3.0     9.0  15.499879  ...  18.133491  20.624632\n",
              "              4.0     7.0  13.944374  ...  14.890881  15.000000\n",
              "              5.0     1.0  17.219430  ...  17.219430  17.219430\n",
              "              6.0     2.0  16.289124  ...  17.386706  18.484288\n",
              "       Yes    1.0     1.0  32.573290  ...  32.573290  32.573290\n",
              "              2.0    25.0  18.492535  ...  19.821606  41.666667\n",
              "              3.0     5.0  16.871821  ...  19.611415  23.074192\n",
              "              4.0     2.0  10.925197  ...  11.261717  11.598237\n",
              "Male   No     2.0    57.0  16.780017  ...  19.815668  29.198966\n",
              "              3.0    17.0  14.685057  ...  16.054159  22.774708\n",
              "              4.0    19.0  15.061108  ...  17.700354  19.228818\n",
              "              5.0     2.0  18.152566  ...  21.159415  24.166264\n",
              "              6.0     2.0  14.956716  ...  17.245122  19.533528\n",
              "       Yes    1.0     1.0  22.377622  ...  22.377622  22.377622\n",
              "              2.0    41.0  15.559632  ...  17.967332  71.034483\n",
              "              3.0     7.0  14.956009  ...  19.400812  21.378942\n",
              "              4.0     9.0  14.932140  ...  19.930475  28.053517\n",
              "              5.0     2.0   8.611591  ...   9.634392  10.657194\n",
              "\n",
              "[20 rows x 8 columns]"
            ]
          },
          "metadata": {
            "tags": []
          },
          "execution_count": 107
        }
      ]
    },
    {
      "cell_type": "markdown",
      "metadata": {
        "id": "JhzcQyOe8R8K",
        "colab_type": "text"
      },
      "source": [
        "Ans15) Single female smokers have the higher avg pct tip."
      ]
    },
    {
      "cell_type": "markdown",
      "metadata": {
        "id": "6ogR0eVr82Ho",
        "colab_type": "text"
      },
      "source": [
        "16) Make a scatter plot of total_bill vs. tip."
      ]
    },
    {
      "cell_type": "code",
      "metadata": {
        "id": "bvkymtHn8C6h",
        "colab_type": "code",
        "colab": {
          "base_uri": "https://localhost:8080/",
          "height": 458
        },
        "outputId": "d74c3b69-86e5-4e2b-cd83-b82b0817f715"
      },
      "source": [
        "plt.figure(figsize=(10,7))\n",
        "plt.title('Scatter Plot for Total Bill v/s Tip')\n",
        "plt.xlabel('Total Bill')\n",
        "plt.ylabel('Tip')\n",
        "plt.scatter(df['total_bill'],df['tip'])\n",
        "plt.show()"
      ],
      "execution_count": 111,
      "outputs": [
        {
          "output_type": "display_data",
          "data": {
            "image/png": "[encoded data removed]",
            "text/plain": [
              "<Figure size 720x504 with 1 Axes>"
            ]
          },
          "metadata": {
            "tags": []
          }
        }
      ]
    },
    {
      "cell_type": "markdown",
      "metadata": {
        "id": "zYfgtquV-SMT",
        "colab_type": "text"
      },
      "source": [
        "17) Make a scatter plot of total_bill vs. pct_tip."
      ]
    },
    {
      "cell_type": "code",
      "metadata": {
        "id": "4MtOqVPk9qSJ",
        "colab_type": "code",
        "colab": {
          "base_uri": "https://localhost:8080/",
          "height": 458
        },
        "outputId": "5f40a9c8-dff5-47f9-dc57-00bdf69a87fc"
      },
      "source": [
        "plt.figure(figsize=(10,7))\n",
        "plt.title('Scatter Plot for Total Bill v/s Tip(%)')\n",
        "plt.xlabel('Total Bill')\n",
        "plt.ylabel('Tip(%)')\n",
        "plt.scatter(df['total_bill'],df['pct_tip'])\n",
        "plt.show()"
      ],
      "execution_count": 112,
      "outputs": [
        {
          "output_type": "display_data",
          "data": {
            "image/png": "[encoded data removed]",
            "text/plain": [
              "<Figure size 720x504 with 1 Axes>"
            ]
          },
          "metadata": {
            "tags": []
          }
        }
      ]
    },
    {
      "cell_type": "markdown",
      "metadata": {
        "id": "OM-81qFO-v_M",
        "colab_type": "text"
      },
      "source": [
        "-Thank You \n",
        "\n",
        "Dhairyav Shah.\n",
        "DSFEB02"
      ]
    },
    {
      "cell_type": "code",
      "metadata": {
        "id": "u0S-cTdC-dyi",
        "colab_type": "code",
        "colab": {}
      },
      "source": [
        ""
      ],
      "execution_count": 0,
      "outputs": []
    }
  ]
}