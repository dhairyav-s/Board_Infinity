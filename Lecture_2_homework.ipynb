{
  "nbformat": 4,
  "nbformat_minor": 0,
  "metadata": {
    "colab": {
      "name": "Lecture_2_homework.ipynb",
      "provenance": [],
      "collapsed_sections": [
        "mMqkRKmnvahy",
        "cHAv239_zpzF"
      ],
      "authorship_tag": "ABX9TyNKFLz9njs/vFFsvaT1PRS1",
      "include_colab_link": true
    },
    "kernelspec": {
      "name": "python3",
      "display_name": "Python 3"
    }
  },
  "cells": [
    {
      "cell_type": "markdown",
      "metadata": {
        "id": "view-in-github",
        "colab_type": "text"
      },
      "source": [
        "<a href=\"https://colab.research.google.com/github/dhairyav-s/Board_Infinity/blob/master/Lecture_2_homework.ipynb\" target=\"_parent\"><img src=\"https://colab.research.google.com/assets/colab-badge.svg\" alt=\"Open In Colab\"/></a>"
      ]
    },
    {
      "cell_type": "markdown",
      "metadata": {
        "id": "mMqkRKmnvahy",
        "colab_type": "text"
      },
      "source": [
        "\n",
        "##Task 1\n",
        "1) Ask the user for his age, if age greater than 18 then print adult, if less then print\n",
        "teenager, remember to set the datatype to an integer like so, int(input())"
      ]
    },
    {
      "cell_type": "code",
      "metadata": {
        "id": "Kzrinb41t6UG",
        "colab_type": "code",
        "colab": {
          "base_uri": "https://localhost:8080/",
          "height": 68
        },
        "outputId": "a3872a72-5e31-46c6-ecda-2536868fb6f6"
      },
      "source": [
        "print(\"Kindly enter your age:\")\n",
        "age = int (input())\n",
        "if age > 18:\n",
        "  print (\"You are an adult.\")\n",
        "else:\n",
        "  print (\"You are a Teenager.\")"
      ],
      "execution_count": 2,
      "outputs": [
        {
          "output_type": "stream",
          "text": [
            "Kindly enter your age:\n",
            "15\n",
            "You are a Teenager.\n"
          ],
          "name": "stdout"
        }
      ]
    },
    {
      "cell_type": "markdown",
      "metadata": {
        "id": "Cagj0jibwvrD",
        "colab_type": "text"
      },
      "source": [
        "2) Make a personal loan approving system, Ask the user for his monthly income.Then ask him if he has an ongoing loan (yes|no), if the user’s income is more than 100000, and his answer to an ongoing loan is no then approve his loan, else reject his loan."
      ]
    },
    {
      "cell_type": "code",
      "metadata": {
        "id": "3kEkuV8dwVra",
        "colab_type": "code",
        "colab": {
          "base_uri": "https://localhost:8080/",
          "height": 102
        },
        "outputId": "333921dc-e4ea-40e2-d24b-1bb03a69cb0a"
      },
      "source": [
        "print (\"Kindly enter your monthly income: \")\n",
        "income = int (input())\n",
        "\n",
        "if income > 100000:\n",
        "  print (\"Do you have an on going loan (Y/N):\")\n",
        "  loan = str (input())\n",
        "  if loan != \"N\" :\n",
        "    print (\"Sorry your application is rejected.\")\n",
        "  else :\n",
        "    print (\"Congratulations, your application is accepted.\")\n",
        "else:\n",
        "  print (\"Sorry your application is rejected.\")"
      ],
      "execution_count": 14,
      "outputs": [
        {
          "output_type": "stream",
          "text": [
            "Kindly enter your monthly income: \n",
            "6451816876\n",
            "Do you have an on going loan (Y/N):\n",
            "N\n",
            "Congratulations, your application is accepted.\n"
          ],
          "name": "stdout"
        }
      ]
    },
    {
      "cell_type": "markdown",
      "metadata": {
        "id": "tsFpSbUXy3iJ",
        "colab_type": "text"
      },
      "source": [
        "3) Ask the user if Female (yes|no), if ‘yes’ then print ‘You are a Girl’ else print, ‘You are a\n",
        "boy’"
      ]
    },
    {
      "cell_type": "code",
      "metadata": {
        "id": "TuyDZr2KxId0",
        "colab_type": "code",
        "colab": {
          "base_uri": "https://localhost:8080/",
          "height": 68
        },
        "outputId": "40815920-e047-47d4-b37e-856a69a5fc43"
      },
      "source": [
        "print (\"Are you a Female (Yes/No): \")\n",
        "gender = str (input())\n",
        "if gender != \"No\":\n",
        "  print (\"You are a Girl\")\n",
        "else:\n",
        "  print(\"You are a Boy\")"
      ],
      "execution_count": 16,
      "outputs": [
        {
          "output_type": "stream",
          "text": [
            "Are you a Female (Yes/No): \n",
            "Yes\n",
            "You are a Girl\n"
          ],
          "name": "stdout"
        }
      ]
    },
    {
      "cell_type": "markdown",
      "metadata": {
        "id": "cHAv239_zpzF",
        "colab_type": "text"
      },
      "source": [
        "##Task 2\n",
        "1. Make a list of random numbers and print them all using a for loop"
      ]
    },
    {
      "cell_type": "code",
      "metadata": {
        "id": "vlXMUWHmzdbS",
        "colab_type": "code",
        "colab": {
          "base_uri": "https://localhost:8080/",
          "height": 187
        },
        "outputId": "a71d07f9-20b5-4bc8-83cc-7215c5e33028"
      },
      "source": [
        "num = [2,34,23,34,45,56,3,67,78,34]\n",
        "for x in num:\n",
        "  print (x)"
      ],
      "execution_count": 21,
      "outputs": [
        {
          "output_type": "stream",
          "text": [
            "2\n",
            "34\n",
            "23\n",
            "34\n",
            "45\n",
            "56\n",
            "3\n",
            "67\n",
            "78\n",
            "34\n"
          ],
          "name": "stdout"
        }
      ]
    },
    {
      "cell_type": "markdown",
      "metadata": {
        "id": "ikoQ45L00Mwb",
        "colab_type": "text"
      },
      "source": [
        "2. Make a list of random number and print only even numbers"
      ]
    },
    {
      "cell_type": "code",
      "metadata": {
        "id": "G8COKCsYz__i",
        "colab_type": "code",
        "colab": {
          "base_uri": "https://localhost:8080/",
          "height": 119
        },
        "outputId": "e94b044f-3a5e-4b43-a4d2-e551de9c9c00"
      },
      "source": [
        "for x in num:\n",
        "  if x%2==0:\n",
        "    print (x)"
      ],
      "execution_count": 25,
      "outputs": [
        {
          "output_type": "stream",
          "text": [
            "2\n",
            "34\n",
            "34\n",
            "56\n",
            "78\n",
            "34\n"
          ],
          "name": "stdout"
        }
      ]
    },
    {
      "cell_type": "markdown",
      "metadata": {
        "id": "h3yzAaUz0i_d",
        "colab_type": "text"
      },
      "source": [
        "3. Make a dictionary called (myself) with the following keys (name, age, gender and\n",
        "favourite food) and using a for loop print out only the keys"
      ]
    },
    {
      "cell_type": "code",
      "metadata": {
        "id": "ZqLN_asG0YqX",
        "colab_type": "code",
        "colab": {
          "base_uri": "https://localhost:8080/",
          "height": 85
        },
        "outputId": "15ddd35c-8480-48ab-a21f-a27569963d54"
      },
      "source": [
        "myself = {\"name\":\"Dhairyav Shah\",\"Age\":22,\"Gender\":\"Male\",\"Favourite Food\":\"Pizza\"}\n",
        "for x in myself:\n",
        "  print(x)"
      ],
      "execution_count": 28,
      "outputs": [
        {
          "output_type": "stream",
          "text": [
            "name\n",
            "Age\n",
            "Gender\n",
            "Favourite Food\n"
          ],
          "name": "stdout"
        }
      ]
    },
    {
      "cell_type": "markdown",
      "metadata": {
        "id": "kd-I1T9j1tCQ",
        "colab_type": "text"
      },
      "source": [
        "4. From the dictionary ‘myself’, print only the values"
      ]
    },
    {
      "cell_type": "code",
      "metadata": {
        "id": "ctyb98rf1Vyt",
        "colab_type": "code",
        "colab": {
          "base_uri": "https://localhost:8080/",
          "height": 85
        },
        "outputId": "0c71e1f0-a67f-4614-8c54-02c31e44fafa"
      },
      "source": [
        "for x in myself:\n",
        "  print(myself[x])"
      ],
      "execution_count": 30,
      "outputs": [
        {
          "output_type": "stream",
          "text": [
            "Dhairyav Shah\n",
            "22\n",
            "Male\n",
            "Pizza\n"
          ],
          "name": "stdout"
        }
      ]
    },
    {
      "cell_type": "markdown",
      "metadata": {
        "id": "McAaMNj818qc",
        "colab_type": "text"
      },
      "source": [
        "##Task 3\n",
        "1. Create a method that takes the persons name as argument and returns it"
      ]
    },
    {
      "cell_type": "code",
      "metadata": {
        "id": "-Y9VFCfh12fR",
        "colab_type": "code",
        "colab": {}
      },
      "source": [
        "def name(person) :\n",
        "  return (person)"
      ],
      "execution_count": 0,
      "outputs": []
    },
    {
      "cell_type": "code",
      "metadata": {
        "id": "hPyLrxBi2oX0",
        "colab_type": "code",
        "colab": {
          "base_uri": "https://localhost:8080/",
          "height": 68
        },
        "outputId": "40ba41fe-0f03-4982-b01a-de2370f55acd"
      },
      "source": [
        "print(\"enter your name:\")\n",
        "person =  str(input())\n",
        "name(person)"
      ],
      "execution_count": 38,
      "outputs": [
        {
          "output_type": "stream",
          "text": [
            "enter your name:\n",
            "djs\n"
          ],
          "name": "stdout"
        },
        {
          "output_type": "execute_result",
          "data": {
            "text/plain": [
              "'djs'"
            ]
          },
          "metadata": {
            "tags": []
          },
          "execution_count": 38
        }
      ]
    },
    {
      "cell_type": "code",
      "metadata": {
        "id": "1QOMvbn03Dnn",
        "colab_type": "code",
        "colab": {
          "base_uri": "https://localhost:8080/",
          "height": 68
        },
        "outputId": "93b0f713-5419-4633-8d69-03c0cba103b9"
      },
      "source": [
        "print (\"enter your name:\")\n",
        "first_name = str (input())\n",
        "name(first_name)"
      ],
      "execution_count": 40,
      "outputs": [
        {
          "output_type": "stream",
          "text": [
            "enter your name:\n",
            "krish\n"
          ],
          "name": "stdout"
        },
        {
          "output_type": "execute_result",
          "data": {
            "text/plain": [
              "'krish'"
            ]
          },
          "metadata": {
            "tags": []
          },
          "execution_count": 40
        }
      ]
    },
    {
      "cell_type": "markdown",
      "metadata": {
        "id": "b1irGpF534ib",
        "colab_type": "text"
      },
      "source": [
        "2. Create a function that takes a dictionary as an input and prints all the keys of the\n",
        "dictionary"
      ]
    },
    {
      "cell_type": "code",
      "metadata": {
        "id": "1y_BphEC3VnC",
        "colab_type": "code",
        "colab": {}
      },
      "source": [
        "def keys_print(printkeys):\n",
        "  return printkeys.keys()"
      ],
      "execution_count": 0,
      "outputs": []
    },
    {
      "cell_type": "code",
      "metadata": {
        "id": "3Zet3FoH4CzZ",
        "colab_type": "code",
        "colab": {
          "base_uri": "https://localhost:8080/",
          "height": 34
        },
        "outputId": "63b2215e-7f4a-42b4-8585-90e9040cd23c"
      },
      "source": [
        "keys_print(myself)"
      ],
      "execution_count": 43,
      "outputs": [
        {
          "output_type": "execute_result",
          "data": {
            "text/plain": [
              "dict_keys(['name', 'Age', 'Gender', 'Favourite Food'])"
            ]
          },
          "metadata": {
            "tags": []
          },
          "execution_count": 43
        }
      ]
    },
    {
      "cell_type": "markdown",
      "metadata": {
        "id": "Kkzni6WR40AO",
        "colab_type": "text"
      },
      "source": [
        "3. Create a function that takes a list of 10 random numbers and prints out only odd numbers."
      ]
    },
    {
      "cell_type": "code",
      "metadata": {
        "id": "keyLv4uk4OBt",
        "colab_type": "code",
        "colab": {}
      },
      "source": [
        "random_num = [0,1,2,3,4,5,6,7,8,9]\n",
        "def print_odd(odd):\n",
        "  for x in odd:\n",
        "    if x%2 != 0:\n",
        "      print (x)"
      ],
      "execution_count": 0,
      "outputs": []
    },
    {
      "cell_type": "code",
      "metadata": {
        "id": "a0pA9IZj4ntS",
        "colab_type": "code",
        "colab": {
          "base_uri": "https://localhost:8080/",
          "height": 102
        },
        "outputId": "3dcb035f-bb0c-45e0-aa4c-7e9d8a700297"
      },
      "source": [
        "print_odd(random_num)"
      ],
      "execution_count": 49,
      "outputs": [
        {
          "output_type": "stream",
          "text": [
            "1\n",
            "3\n",
            "5\n",
            "7\n",
            "9\n"
          ],
          "name": "stdout"
        }
      ]
    },
    {
      "cell_type": "code",
      "metadata": {
        "id": "Wmm-XF8n5F0a",
        "colab_type": "code",
        "colab": {
          "base_uri": "https://localhost:8080/",
          "height": 85
        },
        "outputId": "520f804e-044e-4539-fbd0-7b93030f0d3c"
      },
      "source": [
        "print_odd(num)"
      ],
      "execution_count": 50,
      "outputs": [
        {
          "output_type": "stream",
          "text": [
            "23\n",
            "45\n",
            "3\n",
            "67\n"
          ],
          "name": "stdout"
        }
      ]
    },
    {
      "cell_type": "markdown",
      "metadata": {
        "id": "QFxHs5AI5SOz",
        "colab_type": "text"
      },
      "source": [
        "##Task 4\n",
        "define 4 variables of type,\n",
        "string, float, integer and boolean\n",
        "print the data type for each variables\n",
        "1. integer to float\n",
        "2. string to integer\n",
        "3. integer to string\n",
        "4. bool to string\n",
        "Then print the data types for each variables"
      ]
    },
    {
      "cell_type": "code",
      "metadata": {
        "id": "b27C9Hgr5b9C",
        "colab_type": "code",
        "colab": {}
      },
      "source": [
        "Name = \"Dhairyav\"\n",
        "Age = 22\n",
        "Gender = True\n",
        "SSC = 84.80"
      ],
      "execution_count": 0,
      "outputs": []
    },
    {
      "cell_type": "code",
      "metadata": {
        "id": "BayxrdU75noi",
        "colab_type": "code",
        "colab": {
          "base_uri": "https://localhost:8080/",
          "height": 34
        },
        "outputId": "9db0d985-485e-43a2-d9cb-664c0d11ab35"
      },
      "source": [
        "type(Name)"
      ],
      "execution_count": 55,
      "outputs": [
        {
          "output_type": "execute_result",
          "data": {
            "text/plain": [
              "str"
            ]
          },
          "metadata": {
            "tags": []
          },
          "execution_count": 55
        }
      ]
    },
    {
      "cell_type": "code",
      "metadata": {
        "id": "ScJMSkvw5yLP",
        "colab_type": "code",
        "colab": {
          "base_uri": "https://localhost:8080/",
          "height": 34
        },
        "outputId": "93f67ba7-7845-42ee-f94e-5b355e420e08"
      },
      "source": [
        "type(Age)"
      ],
      "execution_count": 54,
      "outputs": [
        {
          "output_type": "execute_result",
          "data": {
            "text/plain": [
              "int"
            ]
          },
          "metadata": {
            "tags": []
          },
          "execution_count": 54
        }
      ]
    },
    {
      "cell_type": "code",
      "metadata": {
        "id": "Ly3QyAFE50Vj",
        "colab_type": "code",
        "colab": {
          "base_uri": "https://localhost:8080/",
          "height": 34
        },
        "outputId": "843ee094-2b14-4879-8246-79b0d4360170"
      },
      "source": [
        "type(Gender)"
      ],
      "execution_count": 56,
      "outputs": [
        {
          "output_type": "execute_result",
          "data": {
            "text/plain": [
              "bool"
            ]
          },
          "metadata": {
            "tags": []
          },
          "execution_count": 56
        }
      ]
    },
    {
      "cell_type": "code",
      "metadata": {
        "id": "_zYTn_gb54yt",
        "colab_type": "code",
        "colab": {
          "base_uri": "https://localhost:8080/",
          "height": 34
        },
        "outputId": "1e252993-4f81-4fd5-b028-697318956383"
      },
      "source": [
        "type(SSC)"
      ],
      "execution_count": 57,
      "outputs": [
        {
          "output_type": "execute_result",
          "data": {
            "text/plain": [
              "float"
            ]
          },
          "metadata": {
            "tags": []
          },
          "execution_count": 57
        }
      ]
    },
    {
      "cell_type": "code",
      "metadata": {
        "id": "o4wyZ7N96w1B",
        "colab_type": "code",
        "colab": {
          "base_uri": "https://localhost:8080/",
          "height": 51
        },
        "outputId": "2cb2697d-c641-4a3c-f8b1-1b0048e7e2b8"
      },
      "source": [
        "#int to float\n",
        "Age = float(Age)\n",
        "print(Age)\n",
        "type (Age)"
      ],
      "execution_count": 70,
      "outputs": [
        {
          "output_type": "stream",
          "text": [
            "22.0\n"
          ],
          "name": "stdout"
        },
        {
          "output_type": "execute_result",
          "data": {
            "text/plain": [
              "float"
            ]
          },
          "metadata": {
            "tags": []
          },
          "execution_count": 70
        }
      ]
    },
    {
      "cell_type": "code",
      "metadata": {
        "id": "kBTtpBmH6zio",
        "colab_type": "code",
        "colab": {
          "base_uri": "https://localhost:8080/",
          "height": 51
        },
        "outputId": "1f8b5d5a-c297-4ed5-d65a-c06e609e5bc7"
      },
      "source": [
        "# float to int\n",
        "Age = int(Age)\n",
        "print(Age)\n",
        "type (Age)"
      ],
      "execution_count": 71,
      "outputs": [
        {
          "output_type": "stream",
          "text": [
            "22\n"
          ],
          "name": "stdout"
        },
        {
          "output_type": "execute_result",
          "data": {
            "text/plain": [
              "int"
            ]
          },
          "metadata": {
            "tags": []
          },
          "execution_count": 71
        }
      ]
    },
    {
      "cell_type": "code",
      "metadata": {
        "id": "U3uuxY3b56Fu",
        "colab_type": "code",
        "colab": {
          "base_uri": "https://localhost:8080/",
          "height": 51
        },
        "outputId": "f6bcf111-62f9-40ae-ffd3-4d4250824d4c"
      },
      "source": [
        "#int to str\n",
        "Age = str(Age)\n",
        "print(Age)\n",
        "type (Age)"
      ],
      "execution_count": 72,
      "outputs": [
        {
          "output_type": "stream",
          "text": [
            "22\n"
          ],
          "name": "stdout"
        },
        {
          "output_type": "execute_result",
          "data": {
            "text/plain": [
              "str"
            ]
          },
          "metadata": {
            "tags": []
          },
          "execution_count": 72
        }
      ]
    },
    {
      "cell_type": "code",
      "metadata": {
        "id": "Tzlo6IqY6jvr",
        "colab_type": "code",
        "colab": {
          "base_uri": "https://localhost:8080/",
          "height": 51
        },
        "outputId": "7a73e516-e477-4eb6-a4f6-80d0fa207b88"
      },
      "source": [
        "# str to int\n",
        "Age = int (Age)\n",
        "print(Age)\n",
        "type (Age)"
      ],
      "execution_count": 73,
      "outputs": [
        {
          "output_type": "stream",
          "text": [
            "22\n"
          ],
          "name": "stdout"
        },
        {
          "output_type": "execute_result",
          "data": {
            "text/plain": [
              "int"
            ]
          },
          "metadata": {
            "tags": []
          },
          "execution_count": 73
        }
      ]
    },
    {
      "cell_type": "code",
      "metadata": {
        "id": "y4km6VSi7hki",
        "colab_type": "code",
        "colab": {
          "base_uri": "https://localhost:8080/",
          "height": 51
        },
        "outputId": "97d3d2b4-3273-4e87-e04f-0d3f9f8bf39c"
      },
      "source": [
        "# bool to int\n",
        "Gender = str (Gender)\n",
        "print (Gender)\n",
        "type(Gender)"
      ],
      "execution_count": 74,
      "outputs": [
        {
          "output_type": "stream",
          "text": [
            "True\n"
          ],
          "name": "stdout"
        },
        {
          "output_type": "execute_result",
          "data": {
            "text/plain": [
              "str"
            ]
          },
          "metadata": {
            "tags": []
          },
          "execution_count": 74
        }
      ]
    },
    {
      "cell_type": "markdown",
      "metadata": {
        "id": "AFnyGOGc73oN",
        "colab_type": "text"
      },
      "source": [
        "##Task 5\n",
        "Import the following class from SKlearn API,\n",
        "refer to the class notebook for reference,\n",
        "you may also google search the solution as I thought you in the class.\n",
        "Make sure you install sklearn in your notebook using\n",
        "!pip install sklearn\n",
        "Then import the following.\n",
        "\n",
        "1. Random forest\n",
        "2. Gaussian Naive bayes\n",
        "3. Decision tree\n",
        "4. Linear regression\n",
        "5. KMeans\n",
        "6. Train test split\n",
        "7. Classification report\n",
        "8. Accuracy"
      ]
    },
    {
      "cell_type": "code",
      "metadata": {
        "id": "4hD1LnSW7wfx",
        "colab_type": "code",
        "colab": {
          "base_uri": "https://localhost:8080/",
          "height": 102
        },
        "outputId": "c5fdf7e0-d6f2-4b21-c6d4-0cd9aae85130"
      },
      "source": [
        "!pip install sklearn"
      ],
      "execution_count": 75,
      "outputs": [
        {
          "output_type": "stream",
          "text": [
            "Requirement already satisfied: sklearn in /usr/local/lib/python3.6/dist-packages (0.0)\n",
            "Requirement already satisfied: scikit-learn in /usr/local/lib/python3.6/dist-packages (from sklearn) (0.22.1)\n",
            "Requirement already satisfied: joblib>=0.11 in /usr/local/lib/python3.6/dist-packages (from scikit-learn->sklearn) (0.14.1)\n",
            "Requirement already satisfied: scipy>=0.17.0 in /usr/local/lib/python3.6/dist-packages (from scikit-learn->sklearn) (1.4.1)\n",
            "Requirement already satisfied: numpy>=1.11.0 in /usr/local/lib/python3.6/dist-packages (from scikit-learn->sklearn) (1.17.5)\n"
          ],
          "name": "stdout"
        }
      ]
    },
    {
      "cell_type": "code",
      "metadata": {
        "id": "ld3eVRf58Hhm",
        "colab_type": "code",
        "colab": {}
      },
      "source": [
        "from sklearn.ensemble import RandomForestClassifier\n",
        "help(RandomForestClassifier)\n"
      ],
      "execution_count": 0,
      "outputs": []
    },
    {
      "cell_type": "code",
      "metadata": {
        "id": "12aucfe18tm6",
        "colab_type": "code",
        "colab": {}
      },
      "source": [
        "from sklearn.naive_bayes import GaussianNB\n",
        "help(GaussianNB)"
      ],
      "execution_count": 0,
      "outputs": []
    },
    {
      "cell_type": "code",
      "metadata": {
        "id": "m7RqCEOk89Ur",
        "colab_type": "code",
        "colab": {}
      },
      "source": [
        "from sklearn import tree\n",
        "help(tree)"
      ],
      "execution_count": 0,
      "outputs": []
    },
    {
      "cell_type": "code",
      "metadata": {
        "id": "NbNJq2359Peg",
        "colab_type": "code",
        "colab": {}
      },
      "source": [
        "from sklearn.linear_model import LinearRegression\n",
        "help(LinearRegression)"
      ],
      "execution_count": 0,
      "outputs": []
    },
    {
      "cell_type": "code",
      "metadata": {
        "id": "IEA7C5rg9a73",
        "colab_type": "code",
        "colab": {}
      },
      "source": [
        "from sklearn.cluster import KMeans\n",
        "help(KMeans)"
      ],
      "execution_count": 0,
      "outputs": []
    },
    {
      "cell_type": "code",
      "metadata": {
        "id": "7p-jpAra9kC4",
        "colab_type": "code",
        "colab": {}
      },
      "source": [
        "from sklearn.model_selection import train_test_split\n",
        "help(train_test_split)"
      ],
      "execution_count": 0,
      "outputs": []
    },
    {
      "cell_type": "code",
      "metadata": {
        "id": "8zE300h59sg1",
        "colab_type": "code",
        "colab": {}
      },
      "source": [
        "from sklearn.metrics import classification_report\n",
        "help(classification_report)"
      ],
      "execution_count": 0,
      "outputs": []
    },
    {
      "cell_type": "code",
      "metadata": {
        "id": "qeSkSICd916Q",
        "colab_type": "code",
        "colab": {}
      },
      "source": [
        "from sklearn.metrics import accuracy_score\n",
        "help(accuracy_score)"
      ],
      "execution_count": 0,
      "outputs": []
    }
  ]
}