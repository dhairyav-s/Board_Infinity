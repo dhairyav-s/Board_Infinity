{
  "nbformat": 4,
  "nbformat_minor": 0,
  "metadata": {
    "colab": {
      "name": "Lecture_3_homework",
      "provenance": [],
      "authorship_tag": "ABX9TyNp3OylGrkcrG/pmGU+sN2y",
      "include_colab_link": true
    },
    "kernelspec": {
      "name": "python3",
      "display_name": "Python 3"
    }
  },
  "cells": [
    {
      "cell_type": "markdown",
      "metadata": {
        "id": "view-in-github",
        "colab_type": "text"
      },
      "source": [
        "<a href=\"https://colab.research.google.com/github/dhairyav-s/Board_Infinity/blob/master/Lecture_3_homework.ipynb\" target=\"_parent\"><img src=\"https://colab.research.google.com/assets/colab-badge.svg\" alt=\"Open In Colab\"/></a>"
      ]
    },
    {
      "cell_type": "code",
      "metadata": {
        "id": "oNlqmmdr0bOd",
        "colab_type": "code",
        "outputId": "1c7669a6-4393-4e34-eb7e-7bb79a589641",
        "colab": {
          "base_uri": "https://localhost:8080/",
          "height": 34
        }
      },
      "source": [
        "!pip install numpy"
      ],
      "execution_count": 3,
      "outputs": [
        {
          "output_type": "stream",
          "text": [
            "Requirement already satisfied: numpy in /usr/local/lib/python3.6/dist-packages (1.17.5)\n"
          ],
          "name": "stdout"
        }
      ]
    },
    {
      "cell_type": "code",
      "metadata": {
        "id": "CtXlbZmR0mdv",
        "colab_type": "code",
        "outputId": "c27d6c92-3fdd-435b-c1c0-842c1abe61f1",
        "colab": {
          "base_uri": "https://localhost:8080/",
          "height": 102
        }
      },
      "source": [
        "!pip install pandas"
      ],
      "execution_count": 4,
      "outputs": [
        {
          "output_type": "stream",
          "text": [
            "Requirement already satisfied: pandas in /usr/local/lib/python3.6/dist-packages (0.25.3)\n",
            "Requirement already satisfied: python-dateutil>=2.6.1 in /usr/local/lib/python3.6/dist-packages (from pandas) (2.6.1)\n",
            "Requirement already satisfied: pytz>=2017.2 in /usr/local/lib/python3.6/dist-packages (from pandas) (2018.9)\n",
            "Requirement already satisfied: numpy>=1.13.3 in /usr/local/lib/python3.6/dist-packages (from pandas) (1.17.5)\n",
            "Requirement already satisfied: six>=1.5 in /usr/local/lib/python3.6/dist-packages (from python-dateutil>=2.6.1->pandas) (1.12.0)\n"
          ],
          "name": "stdout"
        }
      ]
    },
    {
      "cell_type": "code",
      "metadata": {
        "id": "gd52-Y7c0oda",
        "colab_type": "code",
        "colab": {}
      },
      "source": [
        "import pandas as pd\n",
        "import numpy as np"
      ],
      "execution_count": 0,
      "outputs": []
    },
    {
      "cell_type": "code",
      "metadata": {
        "id": "iSd--xXY0v3U",
        "colab_type": "code",
        "outputId": "785b15dd-bb6f-4c53-c2ae-822cda89d934",
        "colab": {
          "base_uri": "https://localhost:8080/",
          "height": 34
        }
      },
      "source": [
        "list = [21,3221,34,65,23,24]\n",
        "array = np.array(list)\n",
        "array"
      ],
      "execution_count": 6,
      "outputs": [
        {
          "output_type": "execute_result",
          "data": {
            "text/plain": [
              "array([  21, 3221,   34,   65,   23,   24])"
            ]
          },
          "metadata": {
            "tags": []
          },
          "execution_count": 6
        }
      ]
    },
    {
      "cell_type": "code",
      "metadata": {
        "id": "ysVYc-fn1Hq8",
        "colab_type": "code",
        "outputId": "8c38deb2-ddb7-4020-a43d-55bed9e6f6a3",
        "colab": {
          "base_uri": "https://localhost:8080/",
          "height": 51
        }
      },
      "source": [
        "x1 = np.arange(10,20)\n",
        "print(x1)\n",
        "x1.shape"
      ],
      "execution_count": 7,
      "outputs": [
        {
          "output_type": "stream",
          "text": [
            "[10 11 12 13 14 15 16 17 18 19]\n"
          ],
          "name": "stdout"
        },
        {
          "output_type": "execute_result",
          "data": {
            "text/plain": [
              "(10,)"
            ]
          },
          "metadata": {
            "tags": []
          },
          "execution_count": 7
        }
      ]
    },
    {
      "cell_type": "code",
      "metadata": {
        "id": "5xlZM-ff1VhX",
        "colab_type": "code",
        "outputId": "e7a7ee33-4f74-4ba8-9c9b-cab245e26d1b",
        "colab": {
          "base_uri": "https://localhost:8080/",
          "height": 34
        }
      },
      "source": [
        "number = np.arange(5,10)\n",
        "number = number*10\n",
        "number"
      ],
      "execution_count": 8,
      "outputs": [
        {
          "output_type": "execute_result",
          "data": {
            "text/plain": [
              "array([50, 60, 70, 80, 90])"
            ]
          },
          "metadata": {
            "tags": []
          },
          "execution_count": 8
        }
      ]
    },
    {
      "cell_type": "code",
      "metadata": {
        "id": "6kKPpg8_2CxT",
        "colab_type": "code",
        "outputId": "be1da1aa-e724-4f97-ed26-a1c87fd6f65d",
        "colab": {
          "base_uri": "https://localhost:8080/",
          "height": 34
        }
      },
      "source": [
        "number = number/5\n",
        "number"
      ],
      "execution_count": 9,
      "outputs": [
        {
          "output_type": "execute_result",
          "data": {
            "text/plain": [
              "array([10., 12., 14., 16., 18.])"
            ]
          },
          "metadata": {
            "tags": []
          },
          "execution_count": 9
        }
      ]
    },
    {
      "cell_type": "code",
      "metadata": {
        "id": "QAi6JMKY2WVj",
        "colab_type": "code",
        "outputId": "1bb10c10-b745-43c7-86e6-ecc9aa93c2cc",
        "colab": {
          "base_uri": "https://localhost:8080/",
          "height": 34
        }
      },
      "source": [
        "number = number+25\n",
        "number"
      ],
      "execution_count": 10,
      "outputs": [
        {
          "output_type": "execute_result",
          "data": {
            "text/plain": [
              "array([35., 37., 39., 41., 43.])"
            ]
          },
          "metadata": {
            "tags": []
          },
          "execution_count": 10
        }
      ]
    },
    {
      "cell_type": "code",
      "metadata": {
        "id": "HiXy1-HG2chV",
        "colab_type": "code",
        "outputId": "c964aae1-3ebf-4c2e-dc0e-17de3dd01412",
        "colab": {
          "base_uri": "https://localhost:8080/",
          "height": 34
        }
      },
      "source": [
        "number.shape"
      ],
      "execution_count": 11,
      "outputs": [
        {
          "output_type": "execute_result",
          "data": {
            "text/plain": [
              "(5,)"
            ]
          },
          "metadata": {
            "tags": []
          },
          "execution_count": 11
        }
      ]
    },
    {
      "cell_type": "code",
      "metadata": {
        "id": "4hDxc0W22gZw",
        "colab_type": "code",
        "outputId": "c1a0a6d4-d253-4509-dc0a-3a548b994e40",
        "colab": {
          "base_uri": "https://localhost:8080/",
          "height": 102
        }
      },
      "source": [
        "numbers2 = np.arange (50,60)\n",
        "numbers2.reshape ([5,2])"
      ],
      "execution_count": 12,
      "outputs": [
        {
          "output_type": "execute_result",
          "data": {
            "text/plain": [
              "array([[50, 51],\n",
              "       [52, 53],\n",
              "       [54, 55],\n",
              "       [56, 57],\n",
              "       [58, 59]])"
            ]
          },
          "metadata": {
            "tags": []
          },
          "execution_count": 12
        }
      ]
    },
    {
      "cell_type": "code",
      "metadata": {
        "id": "AWLHUAV52w5L",
        "colab_type": "code",
        "outputId": "43630fa9-f3bb-4ab0-cf53-fb82765782da",
        "colab": {
          "base_uri": "https://localhost:8080/",
          "height": 119
        }
      },
      "source": [
        "x2 = np.arange(10,100)\n",
        "x2"
      ],
      "execution_count": 13,
      "outputs": [
        {
          "output_type": "execute_result",
          "data": {
            "text/plain": [
              "array([10, 11, 12, 13, 14, 15, 16, 17, 18, 19, 20, 21, 22, 23, 24, 25, 26,\n",
              "       27, 28, 29, 30, 31, 32, 33, 34, 35, 36, 37, 38, 39, 40, 41, 42, 43,\n",
              "       44, 45, 46, 47, 48, 49, 50, 51, 52, 53, 54, 55, 56, 57, 58, 59, 60,\n",
              "       61, 62, 63, 64, 65, 66, 67, 68, 69, 70, 71, 72, 73, 74, 75, 76, 77,\n",
              "       78, 79, 80, 81, 82, 83, 84, 85, 86, 87, 88, 89, 90, 91, 92, 93, 94,\n",
              "       95, 96, 97, 98, 99])"
            ]
          },
          "metadata": {
            "tags": []
          },
          "execution_count": 13
        }
      ]
    },
    {
      "cell_type": "code",
      "metadata": {
        "id": "2tv8bmKO28DP",
        "colab_type": "code",
        "outputId": "82787e53-2ea0-46cf-84cd-e514d34fb238",
        "colab": {
          "base_uri": "https://localhost:8080/",
          "height": 68
        }
      },
      "source": [
        "x3 = np.arange(10,100,2)\n",
        "x3"
      ],
      "execution_count": 14,
      "outputs": [
        {
          "output_type": "execute_result",
          "data": {
            "text/plain": [
              "array([10, 12, 14, 16, 18, 20, 22, 24, 26, 28, 30, 32, 34, 36, 38, 40, 42,\n",
              "       44, 46, 48, 50, 52, 54, 56, 58, 60, 62, 64, 66, 68, 70, 72, 74, 76,\n",
              "       78, 80, 82, 84, 86, 88, 90, 92, 94, 96, 98])"
            ]
          },
          "metadata": {
            "tags": []
          },
          "execution_count": 14
        }
      ]
    },
    {
      "cell_type": "code",
      "metadata": {
        "id": "LYOi4QF23CJp",
        "colab_type": "code",
        "outputId": "997058f2-f4f6-440b-d323-c24233f4d35f",
        "colab": {
          "base_uri": "https://localhost:8080/",
          "height": 359
        }
      },
      "source": [
        "df = pd.read_csv(\"https://docs.google.com/spreadsheets/d/e/2PACX-1vRkBuDTd8RCydM72-uLD2nJh2fBEG7M1BpiY5P5qj2k1LhLISYTaBBgOGyMbpr2vVUGBUDy_iTfS0sZ/pub?output=csv\")\n",
        "\n",
        "df.head(10)"
      ],
      "execution_count": 15,
      "outputs": [
        {
          "output_type": "execute_result",
          "data": {
            "text/html": [
              "<div>\n",
              "<style scoped>\n",
              "    .dataframe tbody tr th:only-of-type {\n",
              "        vertical-align: middle;\n",
              "    }\n",
              "\n",
              "    .dataframe tbody tr th {\n",
              "        vertical-align: top;\n",
              "    }\n",
              "\n",
              "    .dataframe thead th {\n",
              "        text-align: right;\n",
              "    }\n",
              "</style>\n",
              "<table border=\"1\" class=\"dataframe\">\n",
              "  <thead>\n",
              "    <tr style=\"text-align: right;\">\n",
              "      <th></th>\n",
              "      <th>ID</th>\n",
              "      <th>Agency</th>\n",
              "      <th>Agency Type</th>\n",
              "      <th>Distribution Channel</th>\n",
              "      <th>Product Name</th>\n",
              "      <th>Duration</th>\n",
              "      <th>Destination</th>\n",
              "      <th>Net Sales</th>\n",
              "      <th>Commision (in value)</th>\n",
              "      <th>Age</th>\n",
              "      <th>Claim</th>\n",
              "    </tr>\n",
              "  </thead>\n",
              "  <tbody>\n",
              "    <tr>\n",
              "      <th>0</th>\n",
              "      <td>2010</td>\n",
              "      <td>EPX</td>\n",
              "      <td>Travel Agency</td>\n",
              "      <td>Online</td>\n",
              "      <td>Cancellation Plan</td>\n",
              "      <td>61</td>\n",
              "      <td>PHILIPPINES</td>\n",
              "      <td>12.000000</td>\n",
              "      <td>0.000000</td>\n",
              "      <td>41</td>\n",
              "      <td>0</td>\n",
              "    </tr>\n",
              "    <tr>\n",
              "      <th>1</th>\n",
              "      <td>4245</td>\n",
              "      <td>EPX</td>\n",
              "      <td>Travel Agency</td>\n",
              "      <td>Online</td>\n",
              "      <td>Cancellation Plan</td>\n",
              "      <td>4</td>\n",
              "      <td>MALAYSIA</td>\n",
              "      <td>17.000000</td>\n",
              "      <td>0.000000</td>\n",
              "      <td>35</td>\n",
              "      <td>0</td>\n",
              "    </tr>\n",
              "    <tr>\n",
              "      <th>2</th>\n",
              "      <td>9251</td>\n",
              "      <td>CWT</td>\n",
              "      <td>Travel Agency</td>\n",
              "      <td>Online</td>\n",
              "      <td>Rental Vehicle Excess Insurance</td>\n",
              "      <td>26</td>\n",
              "      <td>THAILAND</td>\n",
              "      <td>19.800000</td>\n",
              "      <td>11.880000</td>\n",
              "      <td>47</td>\n",
              "      <td>0</td>\n",
              "    </tr>\n",
              "    <tr>\n",
              "      <th>3</th>\n",
              "      <td>4754</td>\n",
              "      <td>EPX</td>\n",
              "      <td>Travel Agency</td>\n",
              "      <td>Online</td>\n",
              "      <td>2 way Comprehensive Plan</td>\n",
              "      <td>15</td>\n",
              "      <td>HONG KONG</td>\n",
              "      <td>27.000000</td>\n",
              "      <td>0.000000</td>\n",
              "      <td>48</td>\n",
              "      <td>0</td>\n",
              "    </tr>\n",
              "    <tr>\n",
              "      <th>4</th>\n",
              "      <td>8840</td>\n",
              "      <td>EPX</td>\n",
              "      <td>Travel Agency</td>\n",
              "      <td>Online</td>\n",
              "      <td>2 way Comprehensive Plan</td>\n",
              "      <td>15</td>\n",
              "      <td>MALAYSIA</td>\n",
              "      <td>37.000000</td>\n",
              "      <td>0.000000</td>\n",
              "      <td>36</td>\n",
              "      <td>0</td>\n",
              "    </tr>\n",
              "    <tr>\n",
              "      <th>5</th>\n",
              "      <td>5959</td>\n",
              "      <td>EPX</td>\n",
              "      <td>Travel Agency</td>\n",
              "      <td>Online</td>\n",
              "      <td>2 way Comprehensive Plan</td>\n",
              "      <td>4</td>\n",
              "      <td>THAILAND</td>\n",
              "      <td>25.000000</td>\n",
              "      <td>0.000000</td>\n",
              "      <td>38</td>\n",
              "      <td>0</td>\n",
              "    </tr>\n",
              "    <tr>\n",
              "      <th>6</th>\n",
              "      <td>6031</td>\n",
              "      <td>EPX</td>\n",
              "      <td>Travel Agency</td>\n",
              "      <td>Online</td>\n",
              "      <td>Cancellation Plan</td>\n",
              "      <td>215</td>\n",
              "      <td>UNITED KINGDOM</td>\n",
              "      <td>59.000000</td>\n",
              "      <td>0.000000</td>\n",
              "      <td>36</td>\n",
              "      <td>0</td>\n",
              "    </tr>\n",
              "    <tr>\n",
              "      <th>7</th>\n",
              "      <td>8394</td>\n",
              "      <td>JZI</td>\n",
              "      <td>Airlines</td>\n",
              "      <td>Online</td>\n",
              "      <td>Basic Plan</td>\n",
              "      <td>31</td>\n",
              "      <td>VIET NAM</td>\n",
              "      <td>22.000000</td>\n",
              "      <td>7.700000</td>\n",
              "      <td>43</td>\n",
              "      <td>0</td>\n",
              "    </tr>\n",
              "    <tr>\n",
              "      <th>8</th>\n",
              "      <td>3017</td>\n",
              "      <td>EPX</td>\n",
              "      <td>Travel Agency</td>\n",
              "      <td>Online</td>\n",
              "      <td>2 way Comprehensive Plan</td>\n",
              "      <td>13</td>\n",
              "      <td>CHINA</td>\n",
              "      <td>48.662699</td>\n",
              "      <td>0.000000</td>\n",
              "      <td>36</td>\n",
              "      <td>1</td>\n",
              "    </tr>\n",
              "    <tr>\n",
              "      <th>9</th>\n",
              "      <td>8054</td>\n",
              "      <td>C2B</td>\n",
              "      <td>Airlines</td>\n",
              "      <td>Online</td>\n",
              "      <td>Bronze Plan</td>\n",
              "      <td>10</td>\n",
              "      <td>SINGAPORE</td>\n",
              "      <td>23.258824</td>\n",
              "      <td>5.817294</td>\n",
              "      <td>28</td>\n",
              "      <td>1</td>\n",
              "    </tr>\n",
              "  </tbody>\n",
              "</table>\n",
              "</div>"
            ],
            "text/plain": [
              "     ID Agency    Agency Type  ... Commision (in value) Age  Claim\n",
              "0  2010    EPX  Travel Agency  ...             0.000000  41      0\n",
              "1  4245    EPX  Travel Agency  ...             0.000000  35      0\n",
              "2  9251    CWT  Travel Agency  ...            11.880000  47      0\n",
              "3  4754    EPX  Travel Agency  ...             0.000000  48      0\n",
              "4  8840    EPX  Travel Agency  ...             0.000000  36      0\n",
              "5  5959    EPX  Travel Agency  ...             0.000000  38      0\n",
              "6  6031    EPX  Travel Agency  ...             0.000000  36      0\n",
              "7  8394    JZI       Airlines  ...             7.700000  43      0\n",
              "8  3017    EPX  Travel Agency  ...             0.000000  36      1\n",
              "9  8054    C2B       Airlines  ...             5.817294  28      1\n",
              "\n",
              "[10 rows x 11 columns]"
            ]
          },
          "metadata": {
            "tags": []
          },
          "execution_count": 15
        }
      ]
    },
    {
      "cell_type": "code",
      "metadata": {
        "id": "IhX6M7k53gn4",
        "colab_type": "code",
        "outputId": "c5dde7ee-3765-4bbe-f18f-700e91252f2f",
        "colab": {
          "base_uri": "https://localhost:8080/",
          "height": 359
        }
      },
      "source": [
        "df['random_age'] = df['Age']*10\n",
        "df[['random_age','Age']].head(10)"
      ],
      "execution_count": 16,
      "outputs": [
        {
          "output_type": "execute_result",
          "data": {
            "text/html": [
              "<div>\n",
              "<style scoped>\n",
              "    .dataframe tbody tr th:only-of-type {\n",
              "        vertical-align: middle;\n",
              "    }\n",
              "\n",
              "    .dataframe tbody tr th {\n",
              "        vertical-align: top;\n",
              "    }\n",
              "\n",
              "    .dataframe thead th {\n",
              "        text-align: right;\n",
              "    }\n",
              "</style>\n",
              "<table border=\"1\" class=\"dataframe\">\n",
              "  <thead>\n",
              "    <tr style=\"text-align: right;\">\n",
              "      <th></th>\n",
              "      <th>random_age</th>\n",
              "      <th>Age</th>\n",
              "    </tr>\n",
              "  </thead>\n",
              "  <tbody>\n",
              "    <tr>\n",
              "      <th>0</th>\n",
              "      <td>410</td>\n",
              "      <td>41</td>\n",
              "    </tr>\n",
              "    <tr>\n",
              "      <th>1</th>\n",
              "      <td>350</td>\n",
              "      <td>35</td>\n",
              "    </tr>\n",
              "    <tr>\n",
              "      <th>2</th>\n",
              "      <td>470</td>\n",
              "      <td>47</td>\n",
              "    </tr>\n",
              "    <tr>\n",
              "      <th>3</th>\n",
              "      <td>480</td>\n",
              "      <td>48</td>\n",
              "    </tr>\n",
              "    <tr>\n",
              "      <th>4</th>\n",
              "      <td>360</td>\n",
              "      <td>36</td>\n",
              "    </tr>\n",
              "    <tr>\n",
              "      <th>5</th>\n",
              "      <td>380</td>\n",
              "      <td>38</td>\n",
              "    </tr>\n",
              "    <tr>\n",
              "      <th>6</th>\n",
              "      <td>360</td>\n",
              "      <td>36</td>\n",
              "    </tr>\n",
              "    <tr>\n",
              "      <th>7</th>\n",
              "      <td>430</td>\n",
              "      <td>43</td>\n",
              "    </tr>\n",
              "    <tr>\n",
              "      <th>8</th>\n",
              "      <td>360</td>\n",
              "      <td>36</td>\n",
              "    </tr>\n",
              "    <tr>\n",
              "      <th>9</th>\n",
              "      <td>280</td>\n",
              "      <td>28</td>\n",
              "    </tr>\n",
              "  </tbody>\n",
              "</table>\n",
              "</div>"
            ],
            "text/plain": [
              "   random_age  Age\n",
              "0         410   41\n",
              "1         350   35\n",
              "2         470   47\n",
              "3         480   48\n",
              "4         360   36\n",
              "5         380   38\n",
              "6         360   36\n",
              "7         430   43\n",
              "8         360   36\n",
              "9         280   28"
            ]
          },
          "metadata": {
            "tags": []
          },
          "execution_count": 16
        }
      ]
    },
    {
      "cell_type": "code",
      "metadata": {
        "id": "WhY5B1Ff4p2e",
        "colab_type": "code",
        "outputId": "a6410387-6e78-4231-c006-d7f16f71b7b4",
        "colab": {
          "base_uri": "https://localhost:8080/",
          "height": 221
        }
      },
      "source": [
        "df['Destination'].value_counts()"
      ],
      "execution_count": 17,
      "outputs": [
        {
          "output_type": "execute_result",
          "data": {
            "text/plain": [
              "SINGAPORE       14242\n",
              "THAILAND         4562\n",
              "MALAYSIA         4359\n",
              "CHINA            3909\n",
              "AUSTRALIA        3011\n",
              "                ...  \n",
              "BERMUDA             2\n",
              "BELARUS             2\n",
              "BHUTAN              2\n",
              "TURKMENISTAN        1\n",
              "ZAMBIA              1\n",
              "Name: Destination, Length: 97, dtype: int64"
            ]
          },
          "metadata": {
            "tags": []
          },
          "execution_count": 17
        }
      ]
    },
    {
      "cell_type": "code",
      "metadata": {
        "id": "4QwOXf2A5XYB",
        "colab_type": "code",
        "outputId": "9e11fd51-4434-45cb-ad8e-ecdfe7a69d94",
        "colab": {
          "base_uri": "https://localhost:8080/",
          "height": 68
        }
      },
      "source": [
        "df['Claim'].value_counts()\n"
      ],
      "execution_count": 18,
      "outputs": [
        {
          "output_type": "execute_result",
          "data": {
            "text/plain": [
              "0    43590\n",
              "1     8720\n",
              "Name: Claim, dtype: int64"
            ]
          },
          "metadata": {
            "tags": []
          },
          "execution_count": 18
        }
      ]
    },
    {
      "cell_type": "code",
      "metadata": {
        "id": "rF-mAmAd5uWj",
        "colab_type": "code",
        "outputId": "8332e3b8-9ada-413e-9d30-f9fb53a09f3a",
        "colab": {
          "base_uri": "https://localhost:8080/",
          "height": 68
        }
      },
      "source": [
        "df['Agency Type'].value_counts()"
      ],
      "execution_count": 19,
      "outputs": [
        {
          "output_type": "execute_result",
          "data": {
            "text/plain": [
              "Travel Agency    34996\n",
              "Airlines         17314\n",
              "Name: Agency Type, dtype: int64"
            ]
          },
          "metadata": {
            "tags": []
          },
          "execution_count": 19
        }
      ]
    },
    {
      "cell_type": "code",
      "metadata": {
        "id": "S0-V-ueC5ydF",
        "colab_type": "code",
        "outputId": "ee6da3a1-f6a1-4335-8948-0ad53ac5e05e",
        "colab": {
          "base_uri": "https://localhost:8080/",
          "height": 265
        }
      },
      "source": [
        "df['Agency Type'].value_counts().plot(kind='pie')"
      ],
      "execution_count": 20,
      "outputs": [
        {
          "output_type": "execute_result",
          "data": {
            "text/plain": [
              "<matplotlib.axes._subplots.AxesSubplot at 0x7f6824a157b8>"
            ]
          },
          "metadata": {
            "tags": []
          },
          "execution_count": 20
        },
        {
          "output_type": "display_data",
          "data": {
            "image/png": "[encoded data removed]",
            "text/plain": [
              "<Figure size 432x288 with 1 Axes>"
            ]
          },
          "metadata": {
            "tags": []
          }
        }
      ]
    },
    {
      "cell_type": "code",
      "metadata": {
        "id": "cHkaxoHS6BnJ",
        "colab_type": "code",
        "outputId": "27ad7918-ee7a-4a5f-dc5a-a1a9d290ae5c",
        "colab": {
          "base_uri": "https://localhost:8080/",
          "height": 330
        }
      },
      "source": [
        "df['Destination'].value_counts().head(5).plot(kind=\"bar\")"
      ],
      "execution_count": 21,
      "outputs": [
        {
          "output_type": "execute_result",
          "data": {
            "text/plain": [
              "<matplotlib.axes._subplots.AxesSubplot at 0x7f68225d2a90>"
            ]
          },
          "metadata": {
            "tags": []
          },
          "execution_count": 21
        },
        {
          "output_type": "display_data",
          "data": {
            "image/png": "[encoded data removed]",
            "text/plain": [
              "<Figure size 432x288 with 1 Axes>"
            ]
          },
          "metadata": {
            "tags": []
          }
        }
      ]
    },
    {
      "cell_type": "code",
      "metadata": {
        "id": "UHt4oBXX6K00",
        "colab_type": "code",
        "outputId": "9d3be039-477d-48bf-f93a-18d8cfed3441",
        "colab": {
          "base_uri": "https://localhost:8080/",
          "height": 204
        }
      },
      "source": [
        "df[df['Age']==25].head()"
      ],
      "execution_count": 22,
      "outputs": [
        {
          "output_type": "execute_result",
          "data": {
            "text/html": [
              "<div>\n",
              "<style scoped>\n",
              "    .dataframe tbody tr th:only-of-type {\n",
              "        vertical-align: middle;\n",
              "    }\n",
              "\n",
              "    .dataframe tbody tr th {\n",
              "        vertical-align: top;\n",
              "    }\n",
              "\n",
              "    .dataframe thead th {\n",
              "        text-align: right;\n",
              "    }\n",
              "</style>\n",
              "<table border=\"1\" class=\"dataframe\">\n",
              "  <thead>\n",
              "    <tr style=\"text-align: right;\">\n",
              "      <th></th>\n",
              "      <th>ID</th>\n",
              "      <th>Agency</th>\n",
              "      <th>Agency Type</th>\n",
              "      <th>Distribution Channel</th>\n",
              "      <th>Product Name</th>\n",
              "      <th>Duration</th>\n",
              "      <th>Destination</th>\n",
              "      <th>Net Sales</th>\n",
              "      <th>Commision (in value)</th>\n",
              "      <th>Age</th>\n",
              "      <th>Claim</th>\n",
              "      <th>random_age</th>\n",
              "    </tr>\n",
              "  </thead>\n",
              "  <tbody>\n",
              "    <tr>\n",
              "      <th>19</th>\n",
              "      <td>5232</td>\n",
              "      <td>C2B</td>\n",
              "      <td>Airlines</td>\n",
              "      <td>Online</td>\n",
              "      <td>Bronze Plan</td>\n",
              "      <td>36</td>\n",
              "      <td>SINGAPORE</td>\n",
              "      <td>47.00</td>\n",
              "      <td>11.75</td>\n",
              "      <td>25</td>\n",
              "      <td>0</td>\n",
              "      <td>250</td>\n",
              "    </tr>\n",
              "    <tr>\n",
              "      <th>201</th>\n",
              "      <td>6952</td>\n",
              "      <td>C2B</td>\n",
              "      <td>Airlines</td>\n",
              "      <td>Online</td>\n",
              "      <td>Silver Plan</td>\n",
              "      <td>38</td>\n",
              "      <td>SINGAPORE</td>\n",
              "      <td>31.85</td>\n",
              "      <td>7.96</td>\n",
              "      <td>25</td>\n",
              "      <td>0</td>\n",
              "      <td>250</td>\n",
              "    </tr>\n",
              "    <tr>\n",
              "      <th>314</th>\n",
              "      <td>8801</td>\n",
              "      <td>EPX</td>\n",
              "      <td>Travel Agency</td>\n",
              "      <td>Online</td>\n",
              "      <td>1 way Comprehensive Plan</td>\n",
              "      <td>7</td>\n",
              "      <td>SINGAPORE</td>\n",
              "      <td>20.00</td>\n",
              "      <td>0.00</td>\n",
              "      <td>25</td>\n",
              "      <td>0</td>\n",
              "      <td>250</td>\n",
              "    </tr>\n",
              "    <tr>\n",
              "      <th>347</th>\n",
              "      <td>7466</td>\n",
              "      <td>C2B</td>\n",
              "      <td>Airlines</td>\n",
              "      <td>Online</td>\n",
              "      <td>Silver Plan</td>\n",
              "      <td>9</td>\n",
              "      <td>SINGAPORE</td>\n",
              "      <td>29.50</td>\n",
              "      <td>7.38</td>\n",
              "      <td>25</td>\n",
              "      <td>0</td>\n",
              "      <td>250</td>\n",
              "    </tr>\n",
              "    <tr>\n",
              "      <th>384</th>\n",
              "      <td>9241</td>\n",
              "      <td>EPX</td>\n",
              "      <td>Travel Agency</td>\n",
              "      <td>Online</td>\n",
              "      <td>1 way Comprehensive Plan</td>\n",
              "      <td>1</td>\n",
              "      <td>THAILAND</td>\n",
              "      <td>21.00</td>\n",
              "      <td>0.00</td>\n",
              "      <td>25</td>\n",
              "      <td>0</td>\n",
              "      <td>250</td>\n",
              "    </tr>\n",
              "  </tbody>\n",
              "</table>\n",
              "</div>"
            ],
            "text/plain": [
              "       ID Agency    Agency Type  ... Age Claim  random_age\n",
              "19   5232    C2B       Airlines  ...  25     0         250\n",
              "201  6952    C2B       Airlines  ...  25     0         250\n",
              "314  8801    EPX  Travel Agency  ...  25     0         250\n",
              "347  7466    C2B       Airlines  ...  25     0         250\n",
              "384  9241    EPX  Travel Agency  ...  25     0         250\n",
              "\n",
              "[5 rows x 12 columns]"
            ]
          },
          "metadata": {
            "tags": []
          },
          "execution_count": 22
        }
      ]
    },
    {
      "cell_type": "code",
      "metadata": {
        "id": "2id5zUEcgWHQ",
        "colab_type": "code",
        "colab": {
          "base_uri": "https://localhost:8080/",
          "height": 663
        },
        "outputId": "70c0579c-a543-4f2c-abe8-5a2482abd4d7"
      },
      "source": [
        "df[df[\"Age\"].isin([25])][\"Destination\"].value_counts()"
      ],
      "execution_count": 34,
      "outputs": [
        {
          "output_type": "execute_result",
          "data": {
            "text/plain": [
              "SINGAPORE                           370\n",
              "MALAYSIA                             47\n",
              "THAILAND                             46\n",
              "UNITED STATES                        39\n",
              "KOREA, REPUBLIC OF                   30\n",
              "INDONESIA                            26\n",
              "JAPAN                                25\n",
              "AUSTRALIA                            25\n",
              "CHINA                                22\n",
              "CANADA                               13\n",
              "HONG KONG                            10\n",
              "TAIWAN, PROVINCE OF CHINA            10\n",
              "MYANMAR                               9\n",
              "BRUNEI DARUSSALAM                     7\n",
              "VIET NAM                              6\n",
              "NEW ZEALAND                           5\n",
              "UNITED KINGDOM                        5\n",
              "ITALY                                 4\n",
              "PHILIPPINES                           4\n",
              "NORWAY                                4\n",
              "PERU                                  3\n",
              "SOUTH AFRICA                          3\n",
              "INDIA                                 3\n",
              "FRANCE                                3\n",
              "NETHERLANDS                           2\n",
              "SPAIN                                 2\n",
              "ESTONIA                               2\n",
              "LAO PEOPLE'S DEMOCRATIC REPUBLIC      1\n",
              "GREECE                                1\n",
              "EGYPT                                 1\n",
              "ICELAND                               1\n",
              "CAMBODIA                              1\n",
              "CROATIA                               1\n",
              "SRI LANKA                             1\n",
              "GERMANY                               1\n",
              "UNITED ARAB EMIRATES                  1\n",
              "MACAO                                 1\n",
              "Name: Destination, dtype: int64"
            ]
          },
          "metadata": {
            "tags": []
          },
          "execution_count": 34
        }
      ]
    },
    {
      "cell_type": "code",
      "metadata": {
        "id": "0uj-zYK6676h",
        "colab_type": "code",
        "colab": {
          "base_uri": "https://localhost:8080/",
          "height": 464
        },
        "outputId": "93048ea0-efc0-4682-c468-82a2401711b6"
      },
      "source": [
        "df[df[\"Age\"].isin([25])][\"Destination\"].value_counts().plot(kind='bar')"
      ],
      "execution_count": 33,
      "outputs": [
        {
          "output_type": "execute_result",
          "data": {
            "text/plain": [
              "<matplotlib.axes._subplots.AxesSubplot at 0x7f68217eaf98>"
            ]
          },
          "metadata": {
            "tags": []
          },
          "execution_count": 33
        },
        {
          "output_type": "display_data",
          "data": {
            "image/png": "[encoded data removed]",
            "text/plain": [
              "<Figure size 432x288 with 1 Axes>"
            ]
          },
          "metadata": {
            "tags": []
          }
        }
      ]
    },
    {
      "cell_type": "code",
      "metadata": {
        "id": "FYHBUiMUfAxB",
        "colab_type": "code",
        "colab": {}
      },
      "source": [
        ""
      ],
      "execution_count": 0,
      "outputs": []
    }
  ]
}